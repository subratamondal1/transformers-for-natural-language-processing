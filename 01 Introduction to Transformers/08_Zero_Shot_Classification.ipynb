{
  "nbformat": 4,
  "nbformat_minor": 0,
  "metadata": {
    "colab": {
      "provenance": []
    },
    "kernelspec": {
      "name": "python3",
      "display_name": "Python 3"
    },
    "language_info": {
      "name": "python"
    }
  },
  "cells": [
    {
      "cell_type": "markdown",
      "source": [
        "# Zero Shot Classification"
      ],
      "metadata": {
        "id": "a4tYtnMSvXqD"
      }
    },
    {
      "cell_type": "markdown",
      "source": [
        "**Zero-shot classification** is the process of classifying text into categories that are not seen during training. For example, a model trained on movie reviews can be used to classify text into genres, ratings, or sentiments, even if these categories are not part of the training data."
      ],
      "metadata": {
        "id": "KOx55zYIzUnJ"
      }
    },
    {
      "cell_type": "markdown",
      "source": [
        "## Usecases - Zero Shot Classification"
      ],
      "metadata": {
        "id": "c88n1LT_z2cs"
      }
    },
    {
      "cell_type": "markdown",
      "source": [
        "Zero-shot classification is a machine learning technique that allows a model to classify new examples from classes that it has not seen during training. This is useful for situations where labeled data is scarce or where the model needs to adapt to new classes dynamically. Some of the real life applications of zero-shot classification are:\n",
        "\n",
        "- **Image classification:** Zero-shot learning can help identify objects in images that belong to novel categories, such as rare animals, plants, or artifacts. For example, a model trained on common animals could classify a picture of a pangolin as a mammal with scales.\n",
        "\n",
        "- **Natural language processing:** Zero-shot learning can help understand and generate natural language across different domains, languages, and tasks. For example, a model trained on English text could answer questions in French, summarize a news article, or generate a caption for an image.\n",
        "\n",
        "- **Speech recognition:** Zero-shot learning can help transcribe and translate speech from different speakers, accents, and languages. For example, a model trained on English speech could recognize and translate a voice message in Hindi."
      ],
      "metadata": {
        "id": "cvNTqmGlz79q"
      }
    },
    {
      "cell_type": "code",
      "execution_count": 1,
      "metadata": {
        "id": "7xn7YWd5ut_6"
      },
      "outputs": [],
      "source": [
        "!pip install transformers -qq"
      ]
    },
    {
      "cell_type": "code",
      "source": [
        "from transformers import pipeline\n",
        "\n",
        "zs_classifier = pipeline(\n",
        "    task = \"zero-shot-classification\",\n",
        "    model = \"facebook/bart-large-mnli\"\n",
        ")\n",
        "\n",
        "zs_classifier(\n",
        "    \"This is a great movie.\",\n",
        "    candidate_labels = [\"positive\", \"negative\"]\n",
        ")"
      ],
      "metadata": {
        "colab": {
          "base_uri": "https://localhost:8080/"
        },
        "id": "0bYbhNObvYbr",
        "outputId": "7a2e703b-e873-4fe4-e7b8-847d271e8abd"
      },
      "execution_count": 4,
      "outputs": [
        {
          "output_type": "execute_result",
          "data": {
            "text/plain": [
              "{'sequence': 'This is a great movie.',\n",
              " 'labels': ['positive', 'negative'],\n",
              " 'scores': [0.9960297346115112, 0.0039702425710856915]}"
            ]
          },
          "metadata": {},
          "execution_count": 4
        }
      ]
    },
    {
      "cell_type": "code",
      "source": [
        "zs_classifier(\n",
        "    \"This is movie is not worth watching.\",\n",
        "    candidate_labels = [\"positive\", \"negative\"]\n",
        ")"
      ],
      "metadata": {
        "colab": {
          "base_uri": "https://localhost:8080/"
        },
        "id": "zhvsJCX3xVrA",
        "outputId": "2422eb90-670d-4de1-ca5f-f56acf6183c4"
      },
      "execution_count": 5,
      "outputs": [
        {
          "output_type": "execute_result",
          "data": {
            "text/plain": [
              "{'sequence': 'This is movie is not worth watching.',\n",
              " 'labels': ['negative', 'positive'],\n",
              " 'scores': [0.9972031116485596, 0.0027968878857791424]}"
            ]
          },
          "metadata": {},
          "execution_count": 5
        }
      ]
    },
    {
      "cell_type": "code",
      "source": [],
      "metadata": {
        "id": "T-IzGVp8xkoC"
      },
      "execution_count": null,
      "outputs": []
    }
  ]
}