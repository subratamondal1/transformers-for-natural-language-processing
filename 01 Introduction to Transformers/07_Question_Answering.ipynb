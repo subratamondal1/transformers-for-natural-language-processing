{
  "nbformat": 4,
  "nbformat_minor": 0,
  "metadata": {
    "colab": {
      "provenance": []
    },
    "kernelspec": {
      "name": "python3",
      "display_name": "Python 3"
    },
    "language_info": {
      "name": "python"
    }
  },
  "cells": [
    {
      "cell_type": "markdown",
      "source": [
        "# Question Answering"
      ],
      "metadata": {
        "id": "85SHdF78pCW-"
      }
    },
    {
      "cell_type": "markdown",
      "source": [
        "**Question answering** is the process of finding appropriate answers to natural language questions. They can learn from large collections of text documents, such as Wikipedia articles, and use various techniques to understand the meaning and context of the questions and the possible answers."
      ],
      "metadata": {
        "id": "MpMnkGPUtL9D"
      }
    },
    {
      "cell_type": "markdown",
      "source": [
        "## Usecases - Question Answering"
      ],
      "metadata": {
        "id": "5R0rLaLttooq"
      }
    },
    {
      "cell_type": "markdown",
      "source": [
        "- **Customer service:** A service that provides automated and personalized answers to customer queries, such as product information, order status, troubleshooting, and feedback. This can help businesses to improve customer satisfaction, reduce costs, and increase sales.\n",
        "\n",
        "- **Education:** A service that provides interactive and adaptive learning experiences for students, teachers, and learners, such as quizzes, homework, tutoring, and assessment. This can help them to enhance their knowledge, skills, and performance.\n",
        "\n",
        "- **Healthcare:** A service that provides accurate and reliable answers to health-related questions, such as symptoms, diagnosis, treatment, and prevention. This can help patients, doctors, and researchers to access relevant and up-to-date medical information and advice.\n",
        "\n",
        "- **Entertainment:** A service that provides engaging and enjoyable answers to trivia, gaming, and entertainment questions, such as facts, jokes, riddles, and puzzles. This can help users to have fun, learn new things, and challenge themselves."
      ],
      "metadata": {
        "id": "DRlXVbmCtsuA"
      }
    },
    {
      "cell_type": "code",
      "execution_count": null,
      "metadata": {
        "id": "-T8-tDyuo7BL"
      },
      "outputs": [],
      "source": [
        "!pip install transformers -qq"
      ]
    },
    {
      "cell_type": "code",
      "source": [
        "from transformers import pipeline\n",
        "\n",
        "question_answering = pipeline(\n",
        "    task = \"question-answering\",\n",
        "    model = \"distilbert-base-cased-distilled-squad\"\n",
        ")\n",
        "\n",
        "context = \"Hi, my name is Subrata Mondal. Today I am learning about NLP.\"\n",
        "question1 = \"What is my name?\"\n",
        "question2 = \"What am I learning?\"\n",
        "\n",
        "result1 = question_answering(\n",
        "    context = context,\n",
        "    question = question1\n",
        ")\n",
        "\n",
        "print(result1)\n",
        "\n",
        "result2 = question_answering(\n",
        "    context = context,\n",
        "    question = question2\n",
        ")\n",
        "\n",
        "print(result2)"
      ],
      "metadata": {
        "colab": {
          "base_uri": "https://localhost:8080/"
        },
        "id": "441h23CBqRrK",
        "outputId": "73936a94-18e9-4006-9154-a7ed0bc68cb9"
      },
      "execution_count": null,
      "outputs": [
        {
          "output_type": "stream",
          "name": "stdout",
          "text": [
            "{'score': 0.984460175037384, 'start': 15, 'end': 29, 'answer': 'Subrata Mondal'}\n",
            "{'score': 0.8501406311988831, 'start': 57, 'end': 60, 'answer': 'NLP'}\n"
          ]
        }
      ]
    },
    {
      "cell_type": "code",
      "source": [
        "context[15:29], context[57:60]"
      ],
      "metadata": {
        "colab": {
          "base_uri": "https://localhost:8080/"
        },
        "id": "qrifdW76qb1w",
        "outputId": "5c3c2ef6-9838-4bab-cba7-475416edd32f"
      },
      "execution_count": null,
      "outputs": [
        {
          "output_type": "execute_result",
          "data": {
            "text/plain": [
              "('Subrata Mondal', 'NLP')"
            ]
          },
          "metadata": {},
          "execution_count": 9
        }
      ]
    },
    {
      "cell_type": "code",
      "source": [],
      "metadata": {
        "id": "lioFmiNhrb8u"
      },
      "execution_count": null,
      "outputs": []
    }
  ]
}