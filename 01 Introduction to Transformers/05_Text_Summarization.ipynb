{
  "nbformat": 4,
  "nbformat_minor": 0,
  "metadata": {
    "colab": {
      "provenance": []
    },
    "kernelspec": {
      "name": "python3",
      "display_name": "Python 3"
    },
    "language_info": {
      "name": "python"
    }
  },
  "cells": [
    {
      "cell_type": "markdown",
      "source": [
        "# Text Summarization"
      ],
      "metadata": {
        "id": "yvijsMAT7l6_"
      }
    },
    {
      "cell_type": "markdown",
      "source": [
        "Text summarization is the process of squeezing a large text into it's shorter version while capturing the essential information. There are two main types of text summarization:\n",
        "\n",
        "1. **Extractive summarization** involves selecting the most important sentences/phrases from the original text and concatenating them to form a summary. This method `does not generate new words/sentences`, but rather relies on the existing text. Extractive summarization can be done using various techniques, such as `ranking, clustering, graph-based`, or `neural network-based` methods.\n",
        "\n",
        "2. **Abstractive summarization** involves generating new words/sentences that conveys the main idea of the original text. This method `requires a deeper understanding of the language and the text`, as well as the ability to paraphrase, restructure, and generalize the information. Abstractive summarization can be done using `sequence-to-sequence models`, such as `encoder-decoder` architectures with `attention` mechanisms."
      ],
      "metadata": {
        "id": "_Vc8Kb1K9rVj"
      }
    },
    {
      "cell_type": "markdown",
      "source": [
        "## Usecases - Text Summarization\n",
        "\n",
        "- **Media monitoring:** A service that provides summaries of news articles, social media posts, podcasts, videos, and other media sources related to a specific topic, industry, or client. This can help businesses and individuals to stay updated, track their reputation, identify trends, and gain insights.\n",
        "\n",
        "- **Financial research:** A service that provides summaries of financial reports, earnings calls, market analysis, and other financial data for investors, traders, and analysts. This can help them to make informed decisions, save time, and reduce information overload.\n",
        "\n",
        "- **Legal contract analysis:** A service that provides summaries of legal contracts, agreements, terms and conditions, and other legal documents for lawyers, businesses, and consumers. This can help them to review, compare, and understand the key points, clauses, and obligations in a contract.\n",
        "\n",
        "- **E-learning and class assignments:** A service that provides summaries of books, articles, lectures, courses, and other educational materials for students, teachers, and learners. This can help them to study, revise, and learn more effectively, as well as to create summaries of their own work."
      ],
      "metadata": {
        "id": "JE3jTjBIAfHJ"
      }
    },
    {
      "cell_type": "code",
      "execution_count": 1,
      "metadata": {
        "id": "VJBy8IcY7PTW"
      },
      "outputs": [],
      "source": [
        "!pip install transformers -qq"
      ]
    },
    {
      "cell_type": "code",
      "source": [
        "from transformers import pipeline\n",
        "\n",
        "summarizer = pipeline(\n",
        "    task = \"summarization\",\n",
        "    model = \"sshleifer/distilbart-cnn-12-6\"\n",
        ")\n",
        "\n",
        "text = \"\"\"Text summarization in NLP is the process of using deep learning models to condense a large text document into a shorter summary that captures its essential information. There are two main types of text summarization: extractive and abstractive.\n",
        "\n",
        "Extractive summarization involves selecting the most important sentences or phrases from the original text and concatenating them to form a summary. This method does not generate new words or sentences, but rather relies on the existing text. Extractive summarization can be done using various techniques, such as ranking, clustering, graph-based, or neural network-based methods1.\n",
        "\n",
        "Abstractive summarization involves generating new words or sentences that convey the main idea of the original text. This method requires a deeper understanding of the language and the text, as well as the ability to paraphrase, restructure, and generalize the information. Abstractive summarization can be done using sequence-to-sequence models, such as encoder-decoder architectures with attention mechanisms2.\n",
        "\n",
        "Some of the key insights of text summarization with deep learning are:\n",
        "\n",
        "Text summarization is a challenging and important task in NLP, as it can help users to quickly access relevant information and save time and resources.\n",
        "Text summarization with deep learning can produce high-quality summaries that are fluent, coherent, and informative, as well as customized to different domains, genres, and purposes.\n",
        "Text summarization with deep learning can also benefit from incorporating external knowledge, multimodal inputs, and user feedback, as well as addressing ethical and social issues, such as bias, fairness, and explainability.\n",
        "\"\"\"\n",
        "\n",
        "\n",
        "summarizer(text)"
      ],
      "metadata": {
        "colab": {
          "base_uri": "https://localhost:8080/"
        },
        "id": "KP5Ly8qj7ojL",
        "outputId": "16fd72ff-be4c-4b43-9733-9c77565f7ff5"
      },
      "execution_count": 5,
      "outputs": [
        {
          "output_type": "execute_result",
          "data": {
            "text/plain": [
              "[{'summary_text': ' Text summarization in NLP is the process of using deep learning models to condense a large text document into a shorter summary that captures its essential information . There are two main types of text summarization: extractive and abstractive . Extractive summarization involves selecting the most important sentences or phrases from the original text and concatenating them to form a summary .'}]"
            ]
          },
          "metadata": {},
          "execution_count": 5
        }
      ]
    },
    {
      "cell_type": "code",
      "source": [],
      "metadata": {
        "id": "ZKfT9Tcz9Xu3"
      },
      "execution_count": 3,
      "outputs": []
    }
  ]
}