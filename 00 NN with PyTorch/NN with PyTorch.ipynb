{
 "cells": [
  {
   "cell_type": "markdown",
   "id": "566d2a70-d93f-4ada-9300-e953852e4ae4",
   "metadata": {},
   "source": [
    "# <center>PyTorch</center>\n",
    "---"
   ]
  },
  {
   "cell_type": "code",
   "execution_count": 1,
   "id": "45b9d125-a41d-4565-a925-3516e1b2ee27",
   "metadata": {},
   "outputs": [],
   "source": [
    "import torch"
   ]
  },
  {
   "cell_type": "code",
   "execution_count": 2,
   "id": "2cb97bc7-718b-4ee1-b68f-00e5cd6ddbb4",
   "metadata": {},
   "outputs": [
    {
     "name": "stdout",
     "output_type": "stream",
     "text": [
      "tensor([ 6., 45.])\n"
     ]
    }
   ],
   "source": [
    "x = torch.Tensor([2,5])\n",
    "y = torch.Tensor([3,9])\n",
    "\n",
    "print(x*y)"
   ]
  },
  {
   "cell_type": "code",
   "execution_count": 3,
   "id": "d321918f-370f-4cdd-85a2-a58d9a22d747",
   "metadata": {},
   "outputs": [
    {
     "name": "stdout",
     "output_type": "stream",
     "text": [
      "tensor([[0., 0., 0.],\n",
      "        [0., 0., 0.],\n",
      "        [0., 0., 0.]])\n"
     ]
    }
   ],
   "source": [
    "zeros = torch.zeros(size=(3,3))\n",
    "\n",
    "print(zeros)"
   ]
  },
  {
   "cell_type": "code",
   "execution_count": 4,
   "id": "e30eabc3-cc1b-48b9-a18c-020e9fd46234",
   "metadata": {},
   "outputs": [
    {
     "name": "stdout",
     "output_type": "stream",
     "text": [
      "tensor([[0.7755, 0.4725, 0.6426],\n",
      "        [0.1272, 0.3180, 0.4422],\n",
      "        [0.6498, 0.2719, 0.7316]])\n"
     ]
    }
   ],
   "source": [
    "random = torch.rand(size=(3,3))\n",
    "\n",
    "print(random)"
   ]
  },
  {
   "cell_type": "code",
   "execution_count": 5,
   "id": "3dfa7b64-fc7d-44e4-bff1-9a7307f8f274",
   "metadata": {},
   "outputs": [
    {
     "name": "stdout",
     "output_type": "stream",
     "text": [
      "tensor([0.7755, 0.4725, 0.6426, 0.1272, 0.3180, 0.4422, 0.6498, 0.2719, 0.7316])\n",
      "tensor([[0.7755],\n",
      "        [0.4725],\n",
      "        [0.6426],\n",
      "        [0.1272],\n",
      "        [0.3180],\n",
      "        [0.4422],\n",
      "        [0.6498],\n",
      "        [0.2719],\n",
      "        [0.7316]])\n"
     ]
    }
   ],
   "source": [
    "# Returns a new tensor with the same data as the :attr:`self` tensor but of a different :attr:`shape`\n",
    "print(random.view((9,))) # 1D\n",
    "\n",
    "print(random.view((9,1))) # 2D"
   ]
  },
  {
   "cell_type": "markdown",
   "id": "a3562439-b8bc-4172-83a0-ef67483a48f2",
   "metadata": {},
   "source": [
    "## Data"
   ]
  },
  {
   "cell_type": "code",
   "execution_count": 6,
   "id": "5f475f22-1bc2-452e-ae73-2ddd76f347ce",
   "metadata": {},
   "outputs": [],
   "source": [
    "import torch\n",
    "import torchvision"
   ]
  },
  {
   "cell_type": "code",
   "execution_count": 7,
   "id": "1027c1a7-53e8-4b73-b809-0b1f5bda5fe9",
   "metadata": {},
   "outputs": [
    {
     "name": "stdout",
     "output_type": "stream",
     "text": [
      "Total number of datasets in torchvision.datasets are \n",
      "['CIFAR10', 'CIFAR100', 'CLEVRClassification', 'CREStereo', 'Caltech101', 'Caltech256', 'CarlaStereo', 'CelebA', 'Cityscapes', 'CocoCaptions', 'CocoDetection', 'Country211', 'DTD', 'DatasetFolder', 'EMNIST', 'ETH3DStereo', 'EuroSAT', 'FER2013', 'FGVCAircraft', 'FakeData', 'FallingThingsStereo', 'FashionMNIST', 'Flickr30k', 'Flickr8k', 'Flowers102', 'FlyingChairs', 'FlyingThings3D', 'Food101', 'GTSRB', 'HD1K', 'HMDB51', 'INaturalist', 'ImageFolder', 'ImageNet', 'InStereo2k', 'KMNIST', 'Kinetics', 'Kitti', 'Kitti2012Stereo', 'Kitti2015Stereo', 'KittiFlow', 'LFWPairs', 'LFWPeople', 'LSUN', 'LSUNClass', 'MNIST', 'Middlebury2014Stereo', 'MovingMNIST', 'Omniglot', 'OxfordIIITPet', 'PCAM', 'PhotoTour', 'Places365', 'QMNIST', 'RenderedSST2', 'SBDataset', 'SBU', 'SEMEION', 'STL10', 'SUN397', 'SVHN', 'SceneFlowStereo', 'Sintel', 'SintelStereo', 'StanfordCars', 'UCF101', 'USPS', 'VOCDetection', 'VOCSegmentation', 'VisionDataset', 'WIDERFace', '__all__', '__builtins__', '__cached__', '__doc__', '__file__', '__getattr__', '__loader__', '__name__', '__package__', '__path__', '__spec__', '_optical_flow', '_stereo_matching', 'caltech', 'celeba', 'cifar', 'cityscapes', 'clevr', 'coco', 'country211', 'dtd', 'eurosat', 'fakedata', 'fer2013', 'fgvc_aircraft', 'flickr', 'flowers102', 'folder', 'food101', 'gtsrb', 'hmdb51', 'imagenet', 'inaturalist', 'kinetics', 'kitti', 'lfw', 'lsun', 'mnist', 'moving_mnist', 'omniglot', 'oxford_iiit_pet', 'pcam', 'phototour', 'places365', 'rendered_sst2', 'sbd', 'sbu', 'semeion', 'stanford_cars', 'stl10', 'sun397', 'svhn', 'ucf101', 'usps', 'utils', 'video_utils', 'vision', 'voc', 'widerface']\n"
     ]
    }
   ],
   "source": [
    "# torchvision datasets\n",
    "total_datasets = dir(torchvision.datasets)\n",
    "\n",
    "print(f\"Total number of datasets in torchvision.datasets are \\n{list(total_datasets)}\")"
   ]
  },
  {
   "cell_type": "code",
   "execution_count": 8,
   "id": "6acc1350-586c-4815-a90f-918816ff07da",
   "metadata": {},
   "outputs": [
    {
     "name": "stdout",
     "output_type": "stream",
     "text": [
      "Total number of transformations in torchvision.transforms are \n",
      "['AugMix', 'AutoAugment', 'AutoAugmentPolicy', 'CenterCrop', 'ColorJitter', 'Compose', 'ConvertImageDtype', 'ElasticTransform', 'FiveCrop', 'GaussianBlur', 'Grayscale', 'InterpolationMode', 'Lambda', 'LinearTransformation', 'Normalize', 'PILToTensor', 'Pad', 'RandAugment', 'RandomAdjustSharpness', 'RandomAffine', 'RandomApply', 'RandomAutocontrast', 'RandomChoice', 'RandomCrop', 'RandomEqualize', 'RandomErasing', 'RandomGrayscale', 'RandomHorizontalFlip', 'RandomInvert', 'RandomOrder', 'RandomPerspective', 'RandomPosterize', 'RandomResizedCrop', 'RandomRotation', 'RandomSolarize', 'RandomVerticalFlip', 'Resize', 'TenCrop', 'ToPILImage', 'ToTensor', 'TrivialAugmentWide', '__builtins__', '__cached__', '__doc__', '__file__', '__loader__', '__name__', '__package__', '__path__', '__spec__', '_functional_pil', '_functional_tensor', '_presets', 'autoaugment', 'functional', 'transforms']\n"
     ]
    }
   ],
   "source": [
    "# torchvision transformations\n",
    "total_Transformations = dir(torchvision.transforms)\n",
    "\n",
    "print(f\"Total number of transformations in torchvision.transforms are \\n{list(total_Transformations)}\")"
   ]
  },
  {
   "cell_type": "markdown",
   "id": "9872353f-2d88-45e4-8b06-3e4e7043d20c",
   "metadata": {},
   "source": [
    "### First, split the data (train, test)"
   ]
  },
  {
   "cell_type": "markdown",
   "id": "b4b9b3ae-9ef6-4284-bf07-89f1184ad73e",
   "metadata": {},
   "source": [
    "#### Load Data"
   ]
  },
  {
   "cell_type": "code",
   "execution_count": 9,
   "id": "a50d5dac-f143-4fec-9731-ef530c48f393",
   "metadata": {},
   "outputs": [
    {
     "name": "stdout",
     "output_type": "stream",
     "text": [
      "Dataset MNIST\n",
      "    Number of datapoints: 60000\n",
      "    Root location: \n",
      "    Split: Train\n",
      "    StandardTransform\n",
      "Transform: Compose(\n",
      "               ToTensor()\n",
      "           )\n",
      "Dataset MNIST\n",
      "    Number of datapoints: 10000\n",
      "    Root location: \n",
      "    Split: Test\n",
      "    StandardTransform\n",
      "Transform: Compose(\n",
      "               ToTensor()\n",
      "           )\n"
     ]
    }
   ],
   "source": [
    "from torchvision import transforms\n",
    "from torchvision import datasets\n",
    "\n",
    "train = datasets.MNIST(\n",
    "    root = \"\",\n",
    "    train= True,\n",
    "    download = True,\n",
    "    transform = transforms.Compose([\n",
    "        transforms.ToTensor() \n",
    "    ])\n",
    ")\n",
    "\n",
    "print(train)\n",
    "\n",
    "test = datasets.MNIST(\n",
    "    root = \"\",\n",
    "    train= False,\n",
    "    download = True,\n",
    "    transform = transforms.Compose([\n",
    "        transforms.ToTensor() \n",
    "    ])\n",
    ")\n",
    "\n",
    "print(test)"
   ]
  },
  {
   "cell_type": "markdown",
   "id": "005119c2-0586-43e2-b851-907e2490e987",
   "metadata": {},
   "source": [
    "#### Shuffle train data"
   ]
  },
  {
   "cell_type": "markdown",
   "id": "e806b32d-8ac7-49f1-9f37-57333d5166fb",
   "metadata": {},
   "source": [
    "Shuffling the data is a common technique to **improve** the **generalization** and **robustness** of a deep learning model. It helps to **avoid overfitting** and **reduce** the **correlation** between consecutive batches of data. However, shuffling the data is only necessary for the training set, not the test set. The test set is used to evaluate the performance of the model on unseen data, and shuffling it does not affect the accuracy or other metrics. Therefore, we should only shuffle the train dataloader in PyTorch, not the test dataloader."
   ]
  },
  {
   "cell_type": "markdown",
   "id": "dd0fc3fc-22a7-4902-b5a3-97c624b3f7fb",
   "metadata": {},
   "source": [
    "#### Create dataloader"
   ]
  },
  {
   "cell_type": "code",
   "execution_count": 10,
   "id": "7a9c8699-b102-45c3-a420-4605cd3ef5b5",
   "metadata": {},
   "outputs": [
    {
     "name": "stdout",
     "output_type": "stream",
     "text": [
      "<torch.utils.data.dataloader.DataLoader object at 0x11c7c8d90>\n",
      "<torch.utils.data.dataloader.DataLoader object at 0x11c7cb590>\n"
     ]
    }
   ],
   "source": [
    "train_dataloader = torch.utils.data.DataLoader(\n",
    "    dataset = train,\n",
    "    batch_size = 16,\n",
    "    shuffle = True\n",
    ")\n",
    "\n",
    "print(train_dataloader)\n",
    "\n",
    "test_dataloader = torch.utils.data.DataLoader(\n",
    "    dataset = test,\n",
    "    batch_size = 16,\n",
    "    shuffle = False\n",
    ")\n",
    "\n",
    "print(test_dataloader)"
   ]
  },
  {
   "cell_type": "code",
   "execution_count": 11,
   "id": "77369578-328a-4d42-80e6-bf94810d1059",
   "metadata": {},
   "outputs": [
    {
     "name": "stdout",
     "output_type": "stream",
     "text": [
      "torch.Size([16, 1, 28, 28])\n",
      "[tensor([[[[0., 0., 0.,  ..., 0., 0., 0.],\n",
      "          [0., 0., 0.,  ..., 0., 0., 0.],\n",
      "          [0., 0., 0.,  ..., 0., 0., 0.],\n",
      "          ...,\n",
      "          [0., 0., 0.,  ..., 0., 0., 0.],\n",
      "          [0., 0., 0.,  ..., 0., 0., 0.],\n",
      "          [0., 0., 0.,  ..., 0., 0., 0.]]],\n",
      "\n",
      "\n",
      "        [[[0., 0., 0.,  ..., 0., 0., 0.],\n",
      "          [0., 0., 0.,  ..., 0., 0., 0.],\n",
      "          [0., 0., 0.,  ..., 0., 0., 0.],\n",
      "          ...,\n",
      "          [0., 0., 0.,  ..., 0., 0., 0.],\n",
      "          [0., 0., 0.,  ..., 0., 0., 0.],\n",
      "          [0., 0., 0.,  ..., 0., 0., 0.]]],\n",
      "\n",
      "\n",
      "        [[[0., 0., 0.,  ..., 0., 0., 0.],\n",
      "          [0., 0., 0.,  ..., 0., 0., 0.],\n",
      "          [0., 0., 0.,  ..., 0., 0., 0.],\n",
      "          ...,\n",
      "          [0., 0., 0.,  ..., 0., 0., 0.],\n",
      "          [0., 0., 0.,  ..., 0., 0., 0.],\n",
      "          [0., 0., 0.,  ..., 0., 0., 0.]]],\n",
      "\n",
      "\n",
      "        ...,\n",
      "\n",
      "\n",
      "        [[[0., 0., 0.,  ..., 0., 0., 0.],\n",
      "          [0., 0., 0.,  ..., 0., 0., 0.],\n",
      "          [0., 0., 0.,  ..., 0., 0., 0.],\n",
      "          ...,\n",
      "          [0., 0., 0.,  ..., 0., 0., 0.],\n",
      "          [0., 0., 0.,  ..., 0., 0., 0.],\n",
      "          [0., 0., 0.,  ..., 0., 0., 0.]]],\n",
      "\n",
      "\n",
      "        [[[0., 0., 0.,  ..., 0., 0., 0.],\n",
      "          [0., 0., 0.,  ..., 0., 0., 0.],\n",
      "          [0., 0., 0.,  ..., 0., 0., 0.],\n",
      "          ...,\n",
      "          [0., 0., 0.,  ..., 0., 0., 0.],\n",
      "          [0., 0., 0.,  ..., 0., 0., 0.],\n",
      "          [0., 0., 0.,  ..., 0., 0., 0.]]],\n",
      "\n",
      "\n",
      "        [[[0., 0., 0.,  ..., 0., 0., 0.],\n",
      "          [0., 0., 0.,  ..., 0., 0., 0.],\n",
      "          [0., 0., 0.,  ..., 0., 0., 0.],\n",
      "          ...,\n",
      "          [0., 0., 0.,  ..., 0., 0., 0.],\n",
      "          [0., 0., 0.,  ..., 0., 0., 0.],\n",
      "          [0., 0., 0.,  ..., 0., 0., 0.]]]]), tensor([4, 9, 5, 0, 5, 6, 4, 6, 8, 8, 7, 7, 6, 8, 8, 0])]\n"
     ]
    }
   ],
   "source": [
    "for data in train_dataloader:\n",
    "    print(data[0].shape)\n",
    "    print(data)\n",
    "    break"
   ]
  },
  {
   "cell_type": "code",
   "execution_count": 12,
   "id": "91365371-937f-4a0b-b52b-d3c6fe6d07be",
   "metadata": {},
   "outputs": [
    {
     "name": "stdout",
     "output_type": "stream",
     "text": [
      "torch.Size([1, 28, 28])\n",
      "torch.Size([])\n",
      "tensor(4)\n"
     ]
    },
    {
     "data": {
      "image/png": "[encoded data removed]",
      "text/plain": [
       "<Figure size 640x480 with 1 Axes>"
      ]
     },
     "metadata": {},
     "output_type": "display_data"
    }
   ],
   "source": [
    "import matplotlib.pyplot as plt\n",
    "\n",
    "xs = data[0] # (batch) 16 2D images\n",
    "ys = data[1] # (batch) 16 images's labels\n",
    "\n",
    "x = xs[0] # single image\n",
    "y = ys[0] # single label\n",
    "\n",
    "print(x.shape)\n",
    "print(y.shape)\n",
    "print(y)\n",
    "\n",
    "plt.imshow(x.view(28,28))\n",
    "plt.show()"
   ]
  },
  {
   "cell_type": "markdown",
   "id": "0c5d1ce0-010d-4003-a546-6323d2915af7",
   "metadata": {},
   "source": [
    "## Build our own Neural Network"
   ]
  },
  {
   "cell_type": "code",
   "execution_count": 13,
   "id": "82cfd79d-b278-449b-be03-34818ad170aa",
   "metadata": {},
   "outputs": [],
   "source": [
    "import torch.nn as nn\n",
    "import torch.nn.functional as F"
   ]
  },
  {
   "cell_type": "markdown",
   "id": "ebdde65e-88eb-469c-aea0-e2b9188208ac",
   "metadata": {},
   "source": [
    "* **fc1** is nothing but **Fully connected layer 1** defined by **`nn.Linear()`**\n",
    "* **fc2** is nothing but **Fully connected layer 2** defined by **`nn.Linear()`**"
   ]
  },
  {
   "cell_type": "code",
   "execution_count": 23,
   "id": "882b973e-4eaa-46e7-be21-6daa9dcdd493",
   "metadata": {},
   "outputs": [
    {
     "name": "stdout",
     "output_type": "stream",
     "text": [
      "Net(\n",
      "  (fc1): Linear(in_features=784, out_features=64, bias=True)\n",
      "  (fc2): Linear(in_features=64, out_features=128, bias=True)\n",
      "  (fc3): Linear(in_features=128, out_features=64, bias=True)\n",
      "  (fc4): Linear(in_features=64, out_features=10, bias=True)\n",
      ")\n"
     ]
    }
   ],
   "source": [
    "class Net(nn.Module):\n",
    "    def __init__(self):\n",
    "        super().__init__()\n",
    "        # input features in this fc1 is decided by the input dimension, and the output can be anything we decide as, it's a hidden layer\n",
    "        self.fc1 = nn.Linear(in_features = 28 * 28, out_features = 64)\n",
    "        # input features of this fc2 must be equal to the output features of the previous layer (fc1, and the output feature is user dependent\n",
    "        self.fc2 = nn.Linear(in_features = 64, out_features = 128)\n",
    "        # input features of this fc3 must be equal to the output features of the previous layer (fc2), and the output feature is user dependent \n",
    "        self.fc3 = nn.Linear(in_features = 128, out_features = 64)\n",
    "        # input features of this fc4 must be equal to the output features of the previous layer (fc3), and the output feature is 10\n",
    "        # as this is the output or final layer and since we are doing classification where we have 10 categories, hence the value 10\n",
    "        self.fc4 = nn.Linear(in_features = 64, out_features = 10)\n",
    "\n",
    "    # forward propagation: defines how the data flows through the Neural Network\n",
    "    def forward(self, data):\n",
    "        data = F.relu(self.fc1(data))\n",
    "        data = F.relu(self.fc2(data))\n",
    "        data = F.relu(self.fc3(data))\n",
    "        data = F.log_softmax(self.fc4(data), dim=1)\n",
    "        return data\n",
    "\n",
    "net = Net()\n",
    "print(net)"
   ]
  },
  {
   "cell_type": "code",
   "execution_count": 32,
   "id": "d6eb1596-3bf2-479b-bbf6-dc0898227514",
   "metadata": {},
   "outputs": [
    {
     "name": "stdout",
     "output_type": "stream",
     "text": [
      "torch.Size([28, 28])\n",
      "torch.Size([1, 784])\n",
      "\n",
      "After passing the data through the Network:\n",
      "tensor([[-2.3817, -2.2067, -2.3043, -2.4608, -2.3490, -2.3229, -2.2800, -2.2431,\n",
      "         -2.3158, -2.1912]], grad_fn=<LogSoftmaxBackward0>)\n"
     ]
    }
   ],
   "source": [
    "x = torch.randn((28,28))\n",
    "print(x.shape)\n",
    "\n",
    "x = x.view((-1, 28*28))\n",
    "print(x.shape)\n",
    "\n",
    "print(\"\\nAfter passing the data through the Network:\")\n",
    "print(net(x))"
   ]
  },
  {
   "cell_type": "markdown",
   "id": "6388c950-8784-406d-ba92-6876a5f5fb08",
   "metadata": {},
   "source": [
    "## Training Model"
   ]
  },
  {
   "cell_type": "code",
   "execution_count": 46,
   "id": "6f1b0b64-fac9-462e-8c28-33ebad62129f",
   "metadata": {},
   "outputs": [
    {
     "name": "stdout",
     "output_type": "stream",
     "text": [
      "Adam (\n",
      "Parameter Group 0\n",
      "    amsgrad: False\n",
      "    betas: (0.9, 0.999)\n",
      "    capturable: False\n",
      "    differentiable: False\n",
      "    eps: 1e-08\n",
      "    foreach: None\n",
      "    fused: None\n",
      "    lr: 0.001\n",
      "    maximize: False\n",
      "    weight_decay: 0\n",
      ")\n",
      "tensor(2.2136, grad_fn=<NllLossBackward0>)\n",
      "tensor(2.5160, grad_fn=<NllLossBackward0>)\n",
      "tensor(2.4375, grad_fn=<NllLossBackward0>)\n"
     ]
    }
   ],
   "source": [
    "import torch.optim as optim\n",
    "\n",
    "optimizer = optim.Adam(\n",
    "    params = net.parameters(),\n",
    "    lr = 0.001\n",
    ")\n",
    "\n",
    "print(optimizer)\n",
    "\n",
    "EPOCHS = 3\n",
    "\n",
    "for epoch in range(EPOCHS):\n",
    "    for data in train_dataloader:\n",
    "        X, y = data\n",
    "\n",
    "        output = net(X.view((-1, 28*28)))\n",
    "        loss = F.nll_loss(input = output, target=y) # negative log likelihood loss\n",
    "        loss.backward() # backpropagation\n",
    "        optimizer.step() # adjust the parameters\n",
    "    print(loss)"
   ]
  },
  {
   "cell_type": "code",
   "execution_count": 50,
   "id": "072c7efd-e663-4396-937a-e92bf6adc4d8",
   "metadata": {},
   "outputs": [
    {
     "name": "stdout",
     "output_type": "stream",
     "text": [
      "Accuracy: 0.1044\n"
     ]
    }
   ],
   "source": [
    "correct = 0\n",
    "total = 0\n",
    "with torch.no_grad():\n",
    "    for data in train_dataloader:\n",
    "        X, y = data\n",
    "        output = net(X.view(-1, 28*28))\n",
    "        for idx, i in enumerate(output):\n",
    "            if torch.argmax(i) == y[idx]:\n",
    "                correct += 1\n",
    "            total+= 1\n",
    "print(f\"Accuracy: {correct/total:.4f}\")      "
   ]
  },
  {
   "cell_type": "code",
   "execution_count": 55,
   "id": "ce63097d-ed86-4081-bfb4-9d466cb5c71c",
   "metadata": {},
   "outputs": [
    {
     "data": {
      "image/png": "[encoded data removed]",
      "text/plain": [
       "<Figure size 640x480 with 1 Axes>"
      ]
     },
     "metadata": {},
     "output_type": "display_data"
    }
   ],
   "source": [
    "plt.imshow(X[0].view(28,28))\n",
    "plt.title(f\"{y[0]}\")\n",
    "plt.show()"
   ]
  },
  {
   "cell_type": "code",
   "execution_count": 58,
   "id": "1d5fbbc6-c5d3-4b3c-a7e2-844174cfc3ea",
   "metadata": {},
   "outputs": [
    {
     "data": {
      "text/plain": [
       "tensor(7)"
      ]
     },
     "execution_count": 58,
     "metadata": {},
     "output_type": "execute_result"
    }
   ],
   "source": [
    "torch.argmax(net(X[0].view(-1, 28*28)))"
   ]
  },
  {
   "cell_type": "code",
   "execution_count": null,
   "id": "fc2d0eaf-3327-493c-a3e3-c54dd5fddb41",
   "metadata": {},
   "outputs": [],
   "source": []
  },
  {
   "cell_type": "code",
   "execution_count": null,
   "id": "5d77c334-cd39-4e73-a7d1-4658e23fb8c5",
   "metadata": {},
   "outputs": [],
   "source": []
  }
 ],
 "metadata": {
  "kernelspec": {
   "display_name": "Python 3 (ipykernel)",
   "language": "python",
   "name": "python3"
  },
  "language_info": {
   "codemirror_mode": {
    "name": "ipython",
    "version": 3
   },
   "file_extension": ".py",
   "mimetype": "text/x-python",
   "name": "python",
   "nbconvert_exporter": "python",
   "pygments_lexer": "ipython3",
   "version": "3.11.6"
  }
 },
 "nbformat": 4,
 "nbformat_minor": 5
}
