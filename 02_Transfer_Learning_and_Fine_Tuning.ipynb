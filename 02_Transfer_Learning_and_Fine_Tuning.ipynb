{
  "nbformat": 4,
  "nbformat_minor": 0,
  "metadata": {
    "colab": {
      "provenance": [],
      "gpuType": "T4",
      "authorship_tag": "ABX9TyMxWMTdzlbyqMaiQ+dDQYip",
      "include_colab_link": true
    },
    "kernelspec": {
      "name": "python3",
      "display_name": "Python 3"
    },
    "language_info": {
      "name": "python"
    },
    "accelerator": "GPU"
  },
  "cells": [
    {
      "cell_type": "markdown",
      "metadata": {
        "id": "view-in-github",
        "colab_type": "text"
      },
      "source": [
        "<a href=\"https://colab.research.google.com/github/subratamondal1/transformers-for-natural-language-processing/blob/main/02_Transfer_Learning_and_Fine_Tuning.ipynb\" target=\"_parent\"><img src=\"https://colab.research.google.com/assets/colab-badge.svg\" alt=\"Open In Colab\"/></a>"
      ]
    },
    {
      "cell_type": "markdown",
      "source": [
        "# Transfer Learning\n",
        "\n",
        "Transfer learning is a machine learning ***technique*** that **reuses a pre-trained model on a new problem** that is different but related to the original one. It allows the machine to exploit the knowledge gained from a previous task to improve generalization or speed up the training process for the new task.\n",
        "\n",
        "Transfer learning can be applied to any model, but it is especially useful for transformers, which are very complex and require a lot of data and computational power to train from scratch. By using a pre-trained transformer model on a large and diverse dataset, such as ImageNet or Wikipedia, we can leverage the features and patterns that the model has already learned and adapt them to a new task that may have less data or resources.\n",
        "\n",
        "For example, we can use a pre-trained transformer model for natural language processing to fine-tune it for sentiment analysis, text summarization, or question answering. This way, we can achieve better performance and efficiency than training a new model from scratch.\n",
        "\n",
        "* Transfer learning is what makes transformers powerful and practical for many real-world applications.\n",
        "\n",
        "* Transfer learning was first used in the field of **Computer Vision**.\n",
        "\n",
        "Even though CNN is pretrained as an Image Classifier, the image can be used for other tasks like:\n",
        "\n",
        "- **Face Recognition**: CNNs can be used to identify and verify the faces of people in images or videos. For example, CNNs can be used to `unlock smartphones, tag friends on social media, or detect criminals in surveillance footage`.\n",
        "\n",
        "- **Medical Image Computing**: CNNs can be used to analyze and diagnose medical images, such as X-rays, MRI scans, or CT scans. For example, CNNs can be used to `detect tumors, fractures, or diseases in various organs`.\n",
        "\n",
        "- **Text Generation**: CNNs can be used to generate text based on a given image or context. For example, `CNNs can be used to caption images, summarize articles, or write stories`.\n",
        "\n",
        "\n",
        "> **Note** that Transfer Learning can be used for any task - we just need the right number of **outputs, activations, loss function**, etc."
      ],
      "metadata": {
        "id": "11GDkhfvWEy5"
      }
    },
    {
      "cell_type": "markdown",
      "source": [
        "# Transfer Learning vs Fine-Tuning\n",
        "\n",
        "Transfer learning and fine-tuning are two related but distinct techniques in machine learning. They both involve **reusing a pre-trained model** on a new task/dataset, but they differ in how they update the model parameters.\n",
        "\n",
        "**Transfer learning** is when a model developed for one task is reused to work on a second task that is different but related to the original one. It often involves using the same objective function and may freeze certain layers to retain general features.\n",
        "* For example, we can use a pre-trained model for image classification to extract features from images and use them as inputs for another model that performs a different task, such as face recognition or medical image analysis.\n",
        "\n",
        "**Fine-tuning** is a step further than transfer learning, where you specialize the model to a particular task by changing the model output to fit the new task and train only the output layer or a few layers on top of the pre-trained model. It involves further training the pre-trained model on the new task by updating its weights with a smaller learning rate and often using a different training objective.\n",
        "\n",
        "* For example, we can use a pre-trained model for natural language processing to fine-tune it for a specific task, such as text classification, question answering, or text generation.\n",
        "\n",
        "The **main difference** between transfer learning and fine-tuning is that transfer learning freezes the pre-trained model and only trains the new layers, while fine-tuning unfreezes the pre-trained model and trains it along with the new layers. Transfer learning is usually faster and less prone to overfitting, while fine-tuning can achieve better performance and adaptability. The choice between transfer learning and fine-tuning depends on the similarity between the original task and the new task, the size and quality of the new dataset, and the computational resources available."
      ],
      "metadata": {
        "id": "tRAFZ-87swTn"
      }
    },
    {
      "cell_type": "markdown",
      "source": [
        "# How to Fine-Tune"
      ],
      "metadata": {
        "id": "WgTPNdXVhfYA"
      }
    },
    {
      "cell_type": "markdown",
      "source": [
        "* Hugging Face **Datasets**\n",
        "* Hugging Face **Trainer, TrainerArguments**\n",
        "* Hugging Face **Computing Metrics**\n",
        "* Hugging Face **Saving** and using the trained model"
      ],
      "metadata": {
        "id": "3I72u2hohijF"
      }
    },
    {
      "cell_type": "markdown",
      "source": [
        "## Fine Tuning Sentiment Analysis with GLUE Benchmark"
      ],
      "metadata": {
        "id": "1F3O4YZsH2yi"
      }
    },
    {
      "cell_type": "markdown",
      "source": [
        "**The GLUE Benchmark**\n",
        "\n",
        "* Researchers use benchmark datasets to test their models on a common task for fair comparisons (e.g. MNIST and IMAGENET for Computer Vision), similarly\n",
        "\n",
        "* GLUE benchmark is for NLP, and consists of multiple datasets/tasks\n",
        "\n",
        "* The SST2 task is for Sentiment Analysis"
      ],
      "metadata": {
        "id": "jc69vVqWjwY7"
      }
    },
    {
      "cell_type": "code",
      "source": [
        "! pip install transformers datasets -qq"
      ],
      "metadata": {
        "id": "UVdfCrynH-nZ"
      },
      "execution_count": 137,
      "outputs": []
    },
    {
      "cell_type": "code",
      "source": [
        "from datasets import load_dataset # use datasets library\n",
        "import numpy as np # use numpy library"
      ],
      "metadata": {
        "id": "Z6CTQaHyIYm4"
      },
      "execution_count": 138,
      "outputs": []
    },
    {
      "cell_type": "code",
      "source": [
        "raw_datasets = load_dataset(\n",
        "    path = \"glue\",\n",
        "    name = \"sst2\"\n",
        ")\n",
        "\n",
        "raw_datasets"
      ],
      "metadata": {
        "colab": {
          "base_uri": "https://localhost:8080/"
        },
        "id": "w7wC-isONZfH",
        "outputId": "cee2631e-b1fd-4403-95d5-3306c32f7d18"
      },
      "execution_count": 139,
      "outputs": [
        {
          "output_type": "execute_result",
          "data": {
            "text/plain": [
              "DatasetDict({\n",
              "    train: Dataset({\n",
              "        features: ['sentence', 'label', 'idx'],\n",
              "        num_rows: 67349\n",
              "    })\n",
              "    validation: Dataset({\n",
              "        features: ['sentence', 'label', 'idx'],\n",
              "        num_rows: 872\n",
              "    })\n",
              "    test: Dataset({\n",
              "        features: ['sentence', 'label', 'idx'],\n",
              "        num_rows: 1821\n",
              "    })\n",
              "})"
            ]
          },
          "metadata": {},
          "execution_count": 139
        }
      ]
    },
    {
      "cell_type": "code",
      "source": [
        "raw_datasets[\"train\"].to_pandas()"
      ],
      "metadata": {
        "colab": {
          "base_uri": "https://localhost:8080/",
          "height": 424
        },
        "id": "qnvBWtdNJnq7",
        "outputId": "42d4c151-8b9d-4d47-ea47-7e76c6ef02f2"
      },
      "execution_count": 140,
      "outputs": [
        {
          "output_type": "execute_result",
          "data": {
            "text/plain": [
              "                                                sentence  label    idx\n",
              "0           hide new secretions from the parental units       0      0\n",
              "1                   contains no wit , only labored gags       0      1\n",
              "2      that loves its characters and communicates som...      1      2\n",
              "3      remains utterly satisfied to remain the same t...      0      3\n",
              "4      on the worst revenge-of-the-nerds clichés the ...      0      4\n",
              "...                                                  ...    ...    ...\n",
              "67344                               a delightful comedy       1  67344\n",
              "67345                   anguish , anger and frustration       0  67345\n",
              "67346  at achieving the modest , crowd-pleasing goals...      1  67346\n",
              "67347                                  a patient viewer       1  67347\n",
              "67348  this new jangle of noise , mayhem and stupidit...      0  67348\n",
              "\n",
              "[67349 rows x 3 columns]"
            ],
            "text/html": [
              "\n",
              "  <div id=\"df-b96e0164-f118-4ee3-a5e5-60ff538aec08\" class=\"colab-df-container\">\n",
              "    <div>\n",
              "<style scoped>\n",
              "    .dataframe tbody tr th:only-of-type {\n",
              "        vertical-align: middle;\n",
              "    }\n",
              "\n",
              "    .dataframe tbody tr th {\n",
              "        vertical-align: top;\n",
              "    }\n",
              "\n",
              "    .dataframe thead th {\n",
              "        text-align: right;\n",
              "    }\n",
              "</style>\n",
              "<table border=\"1\" class=\"dataframe\">\n",
              "  <thead>\n",
              "    <tr style=\"text-align: right;\">\n",
              "      <th></th>\n",
              "      <th>sentence</th>\n",
              "      <th>label</th>\n",
              "      <th>idx</th>\n",
              "    </tr>\n",
              "  </thead>\n",
              "  <tbody>\n",
              "    <tr>\n",
              "      <th>0</th>\n",
              "      <td>hide new secretions from the parental units</td>\n",
              "      <td>0</td>\n",
              "      <td>0</td>\n",
              "    </tr>\n",
              "    <tr>\n",
              "      <th>1</th>\n",
              "      <td>contains no wit , only labored gags</td>\n",
              "      <td>0</td>\n",
              "      <td>1</td>\n",
              "    </tr>\n",
              "    <tr>\n",
              "      <th>2</th>\n",
              "      <td>that loves its characters and communicates som...</td>\n",
              "      <td>1</td>\n",
              "      <td>2</td>\n",
              "    </tr>\n",
              "    <tr>\n",
              "      <th>3</th>\n",
              "      <td>remains utterly satisfied to remain the same t...</td>\n",
              "      <td>0</td>\n",
              "      <td>3</td>\n",
              "    </tr>\n",
              "    <tr>\n",
              "      <th>4</th>\n",
              "      <td>on the worst revenge-of-the-nerds clichés the ...</td>\n",
              "      <td>0</td>\n",
              "      <td>4</td>\n",
              "    </tr>\n",
              "    <tr>\n",
              "      <th>...</th>\n",
              "      <td>...</td>\n",
              "      <td>...</td>\n",
              "      <td>...</td>\n",
              "    </tr>\n",
              "    <tr>\n",
              "      <th>67344</th>\n",
              "      <td>a delightful comedy</td>\n",
              "      <td>1</td>\n",
              "      <td>67344</td>\n",
              "    </tr>\n",
              "    <tr>\n",
              "      <th>67345</th>\n",
              "      <td>anguish , anger and frustration</td>\n",
              "      <td>0</td>\n",
              "      <td>67345</td>\n",
              "    </tr>\n",
              "    <tr>\n",
              "      <th>67346</th>\n",
              "      <td>at achieving the modest , crowd-pleasing goals...</td>\n",
              "      <td>1</td>\n",
              "      <td>67346</td>\n",
              "    </tr>\n",
              "    <tr>\n",
              "      <th>67347</th>\n",
              "      <td>a patient viewer</td>\n",
              "      <td>1</td>\n",
              "      <td>67347</td>\n",
              "    </tr>\n",
              "    <tr>\n",
              "      <th>67348</th>\n",
              "      <td>this new jangle of noise , mayhem and stupidit...</td>\n",
              "      <td>0</td>\n",
              "      <td>67348</td>\n",
              "    </tr>\n",
              "  </tbody>\n",
              "</table>\n",
              "<p>67349 rows × 3 columns</p>\n",
              "</div>\n",
              "    <div class=\"colab-df-buttons\">\n",
              "\n",
              "  <div class=\"colab-df-container\">\n",
              "    <button class=\"colab-df-convert\" onclick=\"convertToInteractive('df-b96e0164-f118-4ee3-a5e5-60ff538aec08')\"\n",
              "            title=\"Convert this dataframe to an interactive table.\"\n",
              "            style=\"display:none;\">\n",
              "\n",
              "  <svg xmlns=\"http://www.w3.org/2000/svg\" height=\"24px\" viewBox=\"0 -960 960 960\">\n",
              "    <path d=\"M120-120v-720h720v720H120Zm60-500h600v-160H180v160Zm220 220h160v-160H400v160Zm0 220h160v-160H400v160ZM180-400h160v-160H180v160Zm440 0h160v-160H620v160ZM180-180h160v-160H180v160Zm440 0h160v-160H620v160Z\"/>\n",
              "  </svg>\n",
              "    </button>\n",
              "\n",
              "  <style>\n",
              "    .colab-df-container {\n",
              "      display:flex;\n",
              "      gap: 12px;\n",
              "    }\n",
              "\n",
              "    .colab-df-convert {\n",
              "      background-color: #E8F0FE;\n",
              "      border: none;\n",
              "      border-radius: 50%;\n",
              "      cursor: pointer;\n",
              "      display: none;\n",
              "      fill: #1967D2;\n",
              "      height: 32px;\n",
              "      padding: 0 0 0 0;\n",
              "      width: 32px;\n",
              "    }\n",
              "\n",
              "    .colab-df-convert:hover {\n",
              "      background-color: #E2EBFA;\n",
              "      box-shadow: 0px 1px 2px rgba(60, 64, 67, 0.3), 0px 1px 3px 1px rgba(60, 64, 67, 0.15);\n",
              "      fill: #174EA6;\n",
              "    }\n",
              "\n",
              "    .colab-df-buttons div {\n",
              "      margin-bottom: 4px;\n",
              "    }\n",
              "\n",
              "    [theme=dark] .colab-df-convert {\n",
              "      background-color: #3B4455;\n",
              "      fill: #D2E3FC;\n",
              "    }\n",
              "\n",
              "    [theme=dark] .colab-df-convert:hover {\n",
              "      background-color: #434B5C;\n",
              "      box-shadow: 0px 1px 3px 1px rgba(0, 0, 0, 0.15);\n",
              "      filter: drop-shadow(0px 1px 2px rgba(0, 0, 0, 0.3));\n",
              "      fill: #FFFFFF;\n",
              "    }\n",
              "  </style>\n",
              "\n",
              "    <script>\n",
              "      const buttonEl =\n",
              "        document.querySelector('#df-b96e0164-f118-4ee3-a5e5-60ff538aec08 button.colab-df-convert');\n",
              "      buttonEl.style.display =\n",
              "        google.colab.kernel.accessAllowed ? 'block' : 'none';\n",
              "\n",
              "      async function convertToInteractive(key) {\n",
              "        const element = document.querySelector('#df-b96e0164-f118-4ee3-a5e5-60ff538aec08');\n",
              "        const dataTable =\n",
              "          await google.colab.kernel.invokeFunction('convertToInteractive',\n",
              "                                                    [key], {});\n",
              "        if (!dataTable) return;\n",
              "\n",
              "        const docLinkHtml = 'Like what you see? Visit the ' +\n",
              "          '<a target=\"_blank\" href=https://colab.research.google.com/notebooks/data_table.ipynb>data table notebook</a>'\n",
              "          + ' to learn more about interactive tables.';\n",
              "        element.innerHTML = '';\n",
              "        dataTable['output_type'] = 'display_data';\n",
              "        await google.colab.output.renderOutput(dataTable, element);\n",
              "        const docLink = document.createElement('div');\n",
              "        docLink.innerHTML = docLinkHtml;\n",
              "        element.appendChild(docLink);\n",
              "      }\n",
              "    </script>\n",
              "  </div>\n",
              "\n",
              "\n",
              "<div id=\"df-fc8d72f4-58dc-42a5-ab56-7a361b544bb0\">\n",
              "  <button class=\"colab-df-quickchart\" onclick=\"quickchart('df-fc8d72f4-58dc-42a5-ab56-7a361b544bb0')\"\n",
              "            title=\"Suggest charts\"\n",
              "            style=\"display:none;\">\n",
              "\n",
              "<svg xmlns=\"http://www.w3.org/2000/svg\" height=\"24px\"viewBox=\"0 0 24 24\"\n",
              "     width=\"24px\">\n",
              "    <g>\n",
              "        <path d=\"M19 3H5c-1.1 0-2 .9-2 2v14c0 1.1.9 2 2 2h14c1.1 0 2-.9 2-2V5c0-1.1-.9-2-2-2zM9 17H7v-7h2v7zm4 0h-2V7h2v10zm4 0h-2v-4h2v4z\"/>\n",
              "    </g>\n",
              "</svg>\n",
              "  </button>\n",
              "\n",
              "<style>\n",
              "  .colab-df-quickchart {\n",
              "      --bg-color: #E8F0FE;\n",
              "      --fill-color: #1967D2;\n",
              "      --hover-bg-color: #E2EBFA;\n",
              "      --hover-fill-color: #174EA6;\n",
              "      --disabled-fill-color: #AAA;\n",
              "      --disabled-bg-color: #DDD;\n",
              "  }\n",
              "\n",
              "  [theme=dark] .colab-df-quickchart {\n",
              "      --bg-color: #3B4455;\n",
              "      --fill-color: #D2E3FC;\n",
              "      --hover-bg-color: #434B5C;\n",
              "      --hover-fill-color: #FFFFFF;\n",
              "      --disabled-bg-color: #3B4455;\n",
              "      --disabled-fill-color: #666;\n",
              "  }\n",
              "\n",
              "  .colab-df-quickchart {\n",
              "    background-color: var(--bg-color);\n",
              "    border: none;\n",
              "    border-radius: 50%;\n",
              "    cursor: pointer;\n",
              "    display: none;\n",
              "    fill: var(--fill-color);\n",
              "    height: 32px;\n",
              "    padding: 0;\n",
              "    width: 32px;\n",
              "  }\n",
              "\n",
              "  .colab-df-quickchart:hover {\n",
              "    background-color: var(--hover-bg-color);\n",
              "    box-shadow: 0 1px 2px rgba(60, 64, 67, 0.3), 0 1px 3px 1px rgba(60, 64, 67, 0.15);\n",
              "    fill: var(--button-hover-fill-color);\n",
              "  }\n",
              "\n",
              "  .colab-df-quickchart-complete:disabled,\n",
              "  .colab-df-quickchart-complete:disabled:hover {\n",
              "    background-color: var(--disabled-bg-color);\n",
              "    fill: var(--disabled-fill-color);\n",
              "    box-shadow: none;\n",
              "  }\n",
              "\n",
              "  .colab-df-spinner {\n",
              "    border: 2px solid var(--fill-color);\n",
              "    border-color: transparent;\n",
              "    border-bottom-color: var(--fill-color);\n",
              "    animation:\n",
              "      spin 1s steps(1) infinite;\n",
              "  }\n",
              "\n",
              "  @keyframes spin {\n",
              "    0% {\n",
              "      border-color: transparent;\n",
              "      border-bottom-color: var(--fill-color);\n",
              "      border-left-color: var(--fill-color);\n",
              "    }\n",
              "    20% {\n",
              "      border-color: transparent;\n",
              "      border-left-color: var(--fill-color);\n",
              "      border-top-color: var(--fill-color);\n",
              "    }\n",
              "    30% {\n",
              "      border-color: transparent;\n",
              "      border-left-color: var(--fill-color);\n",
              "      border-top-color: var(--fill-color);\n",
              "      border-right-color: var(--fill-color);\n",
              "    }\n",
              "    40% {\n",
              "      border-color: transparent;\n",
              "      border-right-color: var(--fill-color);\n",
              "      border-top-color: var(--fill-color);\n",
              "    }\n",
              "    60% {\n",
              "      border-color: transparent;\n",
              "      border-right-color: var(--fill-color);\n",
              "    }\n",
              "    80% {\n",
              "      border-color: transparent;\n",
              "      border-right-color: var(--fill-color);\n",
              "      border-bottom-color: var(--fill-color);\n",
              "    }\n",
              "    90% {\n",
              "      border-color: transparent;\n",
              "      border-bottom-color: var(--fill-color);\n",
              "    }\n",
              "  }\n",
              "</style>\n",
              "\n",
              "  <script>\n",
              "    async function quickchart(key) {\n",
              "      const quickchartButtonEl =\n",
              "        document.querySelector('#' + key + ' button');\n",
              "      quickchartButtonEl.disabled = true;  // To prevent multiple clicks.\n",
              "      quickchartButtonEl.classList.add('colab-df-spinner');\n",
              "      try {\n",
              "        const charts = await google.colab.kernel.invokeFunction(\n",
              "            'suggestCharts', [key], {});\n",
              "      } catch (error) {\n",
              "        console.error('Error during call to suggestCharts:', error);\n",
              "      }\n",
              "      quickchartButtonEl.classList.remove('colab-df-spinner');\n",
              "      quickchartButtonEl.classList.add('colab-df-quickchart-complete');\n",
              "    }\n",
              "    (() => {\n",
              "      let quickchartButtonEl =\n",
              "        document.querySelector('#df-fc8d72f4-58dc-42a5-ab56-7a361b544bb0 button');\n",
              "      quickchartButtonEl.style.display =\n",
              "        google.colab.kernel.accessAllowed ? 'block' : 'none';\n",
              "    })();\n",
              "  </script>\n",
              "</div>\n",
              "    </div>\n",
              "  </div>\n"
            ]
          },
          "metadata": {},
          "execution_count": 140
        }
      ]
    },
    {
      "cell_type": "code",
      "source": [
        "type(raw_datasets[\"train\"])"
      ],
      "metadata": {
        "colab": {
          "base_uri": "https://localhost:8080/"
        },
        "id": "ZDirG7uyJ43P",
        "outputId": "fae1c396-dfe0-42db-e9c3-979807376526"
      },
      "execution_count": 141,
      "outputs": [
        {
          "output_type": "execute_result",
          "data": {
            "text/plain": [
              "datasets.arrow_dataset.Dataset"
            ]
          },
          "metadata": {},
          "execution_count": 141
        }
      ]
    },
    {
      "cell_type": "code",
      "source": [
        "raw_datasets[\"train\"].features"
      ],
      "metadata": {
        "colab": {
          "base_uri": "https://localhost:8080/"
        },
        "id": "Kf2nG-OXKe_V",
        "outputId": "78a12b36-4bdc-4575-88d0-3bb65eb23273"
      },
      "execution_count": 142,
      "outputs": [
        {
          "output_type": "execute_result",
          "data": {
            "text/plain": [
              "{'sentence': Value(dtype='string', id=None),\n",
              " 'label': ClassLabel(names=['negative', 'positive'], id=None),\n",
              " 'idx': Value(dtype='int32', id=None)}"
            ]
          },
          "metadata": {},
          "execution_count": 142
        }
      ]
    },
    {
      "cell_type": "markdown",
      "source": [
        "* **LABEL_0** is **Negative**\n",
        "* **LABEL_1** is **POSITIVE**"
      ],
      "metadata": {
        "id": "azbsBO491KXH"
      }
    },
    {
      "cell_type": "code",
      "source": [
        "raw_datasets[\"train\"].data"
      ],
      "metadata": {
        "colab": {
          "base_uri": "https://localhost:8080/"
        },
        "id": "-kftq86LKBWu",
        "outputId": "7af21f78-9b45-4280-c934-efa2ae500582"
      },
      "execution_count": 143,
      "outputs": [
        {
          "output_type": "execute_result",
          "data": {
            "text/plain": [
              "MemoryMappedTable\n",
              "sentence: string\n",
              "label: int64\n",
              "idx: int32\n",
              "----\n",
              "sentence: [[\"hide new secretions from the parental units \",\"contains no wit , only labored gags \",\"that loves its characters and communicates something rather beautiful about human nature \",\"remains utterly satisfied to remain the same throughout \",\"on the worst revenge-of-the-nerds clichés the filmmakers could dredge up \",...,\"you wish you were at home watching that movie instead of in the theater watching this one \",\"'s no point in extracting the bare bones of byatt 's plot for purposes of bland hollywood romance \",\"underdeveloped \",\"the jokes are flat \",\"a heartening tale of small victories \"],[\"suspense , intriguing characters and bizarre bank robberies , \",\"a gritty police thriller with all the dysfunctional family dynamics one could wish for \",\"with a wonderful ensemble cast of characters that bring the routine day to day struggles of the working class to life \",\"nonetheless appreciates the art and reveals a music scene that transcends culture and race . \",\"do we really need the tiger beat version ? \",...,\"when there 's nothing else happening \",\"on cable \",\"it with ring , \",\"far from a groundbreaking endeavor \",\"that these women are spectacular \"],...,[\"it does turn out to be a bit of a cheat in the end \",\"may be convinced that he has something significant to say \",\"to be both hugely entertaining and uplifting . \",\", boredom never takes hold . \",\"left to work with , sort of like michael jackson 's nose \",...,\"from a severe case of hollywood-itis \",\"the very best of them \",\"thrills , \",\"'s attracting audiences to unfaithful \",\"impressively delicate range \"],[\"starts off promisingly but then proceeds to flop \",\"distinguished actor \",\"on their parents ' anguish \",\"pays off and is effective if you stick with it \",\"is n't particularly funny \",...,\"a delightful comedy \",\"anguish , anger and frustration \",\"at achieving the modest , crowd-pleasing goals it sets for itself \",\"a patient viewer \",\"this new jangle of noise , mayhem and stupidity must be a serious contender for the title . \"]]\n",
              "label: [[0,0,1,0,0,...,0,0,0,0,1],[1,1,1,1,0,...,0,0,1,0,1],...,[0,0,1,1,0,...,0,1,1,1,1],[0,1,0,1,0,...,1,0,1,1,0]]\n",
              "idx: [[0,1,2,3,4,...,995,996,997,998,999],[1000,1001,1002,1003,1004,...,1995,1996,1997,1998,1999],...,[66000,66001,66002,66003,66004,...,66995,66996,66997,66998,66999],[67000,67001,67002,67003,67004,...,67344,67345,67346,67347,67348]]"
            ]
          },
          "metadata": {},
          "execution_count": 143
        }
      ]
    },
    {
      "cell_type": "code",
      "source": [
        "from transformers import AutoTokenizer\n",
        "\n",
        "checkpoint = \"distilbert-base-uncased\"\n",
        "tokenizer = AutoTokenizer.from_pretrained(\n",
        "    pretrained_model_name_or_path = checkpoint,\n",
        ")\n",
        "\n",
        "tokenizer(raw_datasets[\"train\"][0:2][\"sentence\"])"
      ],
      "metadata": {
        "colab": {
          "base_uri": "https://localhost:8080/"
        },
        "id": "j0qKN_TdK5Nm",
        "outputId": "807ae28a-b7d9-4fe8-934a-c5bc2916d1c6"
      },
      "execution_count": 144,
      "outputs": [
        {
          "output_type": "execute_result",
          "data": {
            "text/plain": [
              "{'input_ids': [[101, 5342, 2047, 3595, 8496, 2013, 1996, 18643, 3197, 102], [101, 3397, 2053, 15966, 1010, 2069, 4450, 2098, 18201, 2015, 102]], 'attention_mask': [[1, 1, 1, 1, 1, 1, 1, 1, 1, 1], [1, 1, 1, 1, 1, 1, 1, 1, 1, 1, 1]]}"
            ]
          },
          "metadata": {},
          "execution_count": 144
        }
      ]
    },
    {
      "cell_type": "code",
      "source": [
        "def tokenize_fn(batch):\n",
        "  return tokenizer(batch[\"sentence\"], truncation = True)"
      ],
      "metadata": {
        "id": "POBPUSjUMLIB"
      },
      "execution_count": 145,
      "outputs": []
    },
    {
      "cell_type": "markdown",
      "source": [
        "Why only truncation and no padding? because here, padding will be automatically applied."
      ],
      "metadata": {
        "id": "xpL4cSXfM66x"
      }
    },
    {
      "cell_type": "code",
      "source": [
        "tokenized_datasets = raw_datasets.map(tokenize_fn, batched = True)"
      ],
      "metadata": {
        "id": "crAIlwalNcLW"
      },
      "execution_count": 146,
      "outputs": []
    },
    {
      "cell_type": "code",
      "source": [
        "tokenized_datasets[\"train\"].to_pandas()"
      ],
      "metadata": {
        "colab": {
          "base_uri": "https://localhost:8080/",
          "height": 424
        },
        "id": "mjOJiiTVNcOz",
        "outputId": "8152586a-97ac-43f8-c137-760939e4ab1f"
      },
      "execution_count": 147,
      "outputs": [
        {
          "output_type": "execute_result",
          "data": {
            "text/plain": [
              "                                                sentence  label    idx  \\\n",
              "0           hide new secretions from the parental units       0      0   \n",
              "1                   contains no wit , only labored gags       0      1   \n",
              "2      that loves its characters and communicates som...      1      2   \n",
              "3      remains utterly satisfied to remain the same t...      0      3   \n",
              "4      on the worst revenge-of-the-nerds clichés the ...      0      4   \n",
              "...                                                  ...    ...    ...   \n",
              "67344                               a delightful comedy       1  67344   \n",
              "67345                   anguish , anger and frustration       0  67345   \n",
              "67346  at achieving the modest , crowd-pleasing goals...      1  67346   \n",
              "67347                                  a patient viewer       1  67347   \n",
              "67348  this new jangle of noise , mayhem and stupidit...      0  67348   \n",
              "\n",
              "                                               input_ids  \\\n",
              "0      [101, 5342, 2047, 3595, 8496, 2013, 1996, 1864...   \n",
              "1      [101, 3397, 2053, 15966, 1010, 2069, 4450, 209...   \n",
              "2      [101, 2008, 7459, 2049, 3494, 1998, 10639, 201...   \n",
              "3      [101, 3464, 12580, 8510, 2000, 3961, 1996, 216...   \n",
              "4      [101, 2006, 1996, 5409, 7195, 1011, 1997, 1011...   \n",
              "...                                                  ...   \n",
              "67344                      [101, 1037, 26380, 4038, 102]   \n",
              "67345          [101, 21782, 1010, 4963, 1998, 9135, 102]   \n",
              "67346  [101, 2012, 10910, 1996, 10754, 1010, 4306, 10...   \n",
              "67347                      [101, 1037, 5776, 13972, 102]   \n",
              "67348  [101, 2023, 2047, 23769, 2571, 1997, 5005, 101...   \n",
              "\n",
              "                                          attention_mask  \n",
              "0                         [1, 1, 1, 1, 1, 1, 1, 1, 1, 1]  \n",
              "1                      [1, 1, 1, 1, 1, 1, 1, 1, 1, 1, 1]  \n",
              "2          [1, 1, 1, 1, 1, 1, 1, 1, 1, 1, 1, 1, 1, 1, 1]  \n",
              "3                         [1, 1, 1, 1, 1, 1, 1, 1, 1, 1]  \n",
              "4      [1, 1, 1, 1, 1, 1, 1, 1, 1, 1, 1, 1, 1, 1, 1, ...  \n",
              "...                                                  ...  \n",
              "67344                                    [1, 1, 1, 1, 1]  \n",
              "67345                              [1, 1, 1, 1, 1, 1, 1]  \n",
              "67346      [1, 1, 1, 1, 1, 1, 1, 1, 1, 1, 1, 1, 1, 1, 1]  \n",
              "67347                                    [1, 1, 1, 1, 1]  \n",
              "67348  [1, 1, 1, 1, 1, 1, 1, 1, 1, 1, 1, 1, 1, 1, 1, ...  \n",
              "\n",
              "[67349 rows x 5 columns]"
            ],
            "text/html": [
              "\n",
              "  <div id=\"df-564183b0-a928-44b8-bfb3-74444373d6a9\" class=\"colab-df-container\">\n",
              "    <div>\n",
              "<style scoped>\n",
              "    .dataframe tbody tr th:only-of-type {\n",
              "        vertical-align: middle;\n",
              "    }\n",
              "\n",
              "    .dataframe tbody tr th {\n",
              "        vertical-align: top;\n",
              "    }\n",
              "\n",
              "    .dataframe thead th {\n",
              "        text-align: right;\n",
              "    }\n",
              "</style>\n",
              "<table border=\"1\" class=\"dataframe\">\n",
              "  <thead>\n",
              "    <tr style=\"text-align: right;\">\n",
              "      <th></th>\n",
              "      <th>sentence</th>\n",
              "      <th>label</th>\n",
              "      <th>idx</th>\n",
              "      <th>input_ids</th>\n",
              "      <th>attention_mask</th>\n",
              "    </tr>\n",
              "  </thead>\n",
              "  <tbody>\n",
              "    <tr>\n",
              "      <th>0</th>\n",
              "      <td>hide new secretions from the parental units</td>\n",
              "      <td>0</td>\n",
              "      <td>0</td>\n",
              "      <td>[101, 5342, 2047, 3595, 8496, 2013, 1996, 1864...</td>\n",
              "      <td>[1, 1, 1, 1, 1, 1, 1, 1, 1, 1]</td>\n",
              "    </tr>\n",
              "    <tr>\n",
              "      <th>1</th>\n",
              "      <td>contains no wit , only labored gags</td>\n",
              "      <td>0</td>\n",
              "      <td>1</td>\n",
              "      <td>[101, 3397, 2053, 15966, 1010, 2069, 4450, 209...</td>\n",
              "      <td>[1, 1, 1, 1, 1, 1, 1, 1, 1, 1, 1]</td>\n",
              "    </tr>\n",
              "    <tr>\n",
              "      <th>2</th>\n",
              "      <td>that loves its characters and communicates som...</td>\n",
              "      <td>1</td>\n",
              "      <td>2</td>\n",
              "      <td>[101, 2008, 7459, 2049, 3494, 1998, 10639, 201...</td>\n",
              "      <td>[1, 1, 1, 1, 1, 1, 1, 1, 1, 1, 1, 1, 1, 1, 1]</td>\n",
              "    </tr>\n",
              "    <tr>\n",
              "      <th>3</th>\n",
              "      <td>remains utterly satisfied to remain the same t...</td>\n",
              "      <td>0</td>\n",
              "      <td>3</td>\n",
              "      <td>[101, 3464, 12580, 8510, 2000, 3961, 1996, 216...</td>\n",
              "      <td>[1, 1, 1, 1, 1, 1, 1, 1, 1, 1]</td>\n",
              "    </tr>\n",
              "    <tr>\n",
              "      <th>4</th>\n",
              "      <td>on the worst revenge-of-the-nerds clichés the ...</td>\n",
              "      <td>0</td>\n",
              "      <td>4</td>\n",
              "      <td>[101, 2006, 1996, 5409, 7195, 1011, 1997, 1011...</td>\n",
              "      <td>[1, 1, 1, 1, 1, 1, 1, 1, 1, 1, 1, 1, 1, 1, 1, ...</td>\n",
              "    </tr>\n",
              "    <tr>\n",
              "      <th>...</th>\n",
              "      <td>...</td>\n",
              "      <td>...</td>\n",
              "      <td>...</td>\n",
              "      <td>...</td>\n",
              "      <td>...</td>\n",
              "    </tr>\n",
              "    <tr>\n",
              "      <th>67344</th>\n",
              "      <td>a delightful comedy</td>\n",
              "      <td>1</td>\n",
              "      <td>67344</td>\n",
              "      <td>[101, 1037, 26380, 4038, 102]</td>\n",
              "      <td>[1, 1, 1, 1, 1]</td>\n",
              "    </tr>\n",
              "    <tr>\n",
              "      <th>67345</th>\n",
              "      <td>anguish , anger and frustration</td>\n",
              "      <td>0</td>\n",
              "      <td>67345</td>\n",
              "      <td>[101, 21782, 1010, 4963, 1998, 9135, 102]</td>\n",
              "      <td>[1, 1, 1, 1, 1, 1, 1]</td>\n",
              "    </tr>\n",
              "    <tr>\n",
              "      <th>67346</th>\n",
              "      <td>at achieving the modest , crowd-pleasing goals...</td>\n",
              "      <td>1</td>\n",
              "      <td>67346</td>\n",
              "      <td>[101, 2012, 10910, 1996, 10754, 1010, 4306, 10...</td>\n",
              "      <td>[1, 1, 1, 1, 1, 1, 1, 1, 1, 1, 1, 1, 1, 1, 1]</td>\n",
              "    </tr>\n",
              "    <tr>\n",
              "      <th>67347</th>\n",
              "      <td>a patient viewer</td>\n",
              "      <td>1</td>\n",
              "      <td>67347</td>\n",
              "      <td>[101, 1037, 5776, 13972, 102]</td>\n",
              "      <td>[1, 1, 1, 1, 1]</td>\n",
              "    </tr>\n",
              "    <tr>\n",
              "      <th>67348</th>\n",
              "      <td>this new jangle of noise , mayhem and stupidit...</td>\n",
              "      <td>0</td>\n",
              "      <td>67348</td>\n",
              "      <td>[101, 2023, 2047, 23769, 2571, 1997, 5005, 101...</td>\n",
              "      <td>[1, 1, 1, 1, 1, 1, 1, 1, 1, 1, 1, 1, 1, 1, 1, ...</td>\n",
              "    </tr>\n",
              "  </tbody>\n",
              "</table>\n",
              "<p>67349 rows × 5 columns</p>\n",
              "</div>\n",
              "    <div class=\"colab-df-buttons\">\n",
              "\n",
              "  <div class=\"colab-df-container\">\n",
              "    <button class=\"colab-df-convert\" onclick=\"convertToInteractive('df-564183b0-a928-44b8-bfb3-74444373d6a9')\"\n",
              "            title=\"Convert this dataframe to an interactive table.\"\n",
              "            style=\"display:none;\">\n",
              "\n",
              "  <svg xmlns=\"http://www.w3.org/2000/svg\" height=\"24px\" viewBox=\"0 -960 960 960\">\n",
              "    <path d=\"M120-120v-720h720v720H120Zm60-500h600v-160H180v160Zm220 220h160v-160H400v160Zm0 220h160v-160H400v160ZM180-400h160v-160H180v160Zm440 0h160v-160H620v160ZM180-180h160v-160H180v160Zm440 0h160v-160H620v160Z\"/>\n",
              "  </svg>\n",
              "    </button>\n",
              "\n",
              "  <style>\n",
              "    .colab-df-container {\n",
              "      display:flex;\n",
              "      gap: 12px;\n",
              "    }\n",
              "\n",
              "    .colab-df-convert {\n",
              "      background-color: #E8F0FE;\n",
              "      border: none;\n",
              "      border-radius: 50%;\n",
              "      cursor: pointer;\n",
              "      display: none;\n",
              "      fill: #1967D2;\n",
              "      height: 32px;\n",
              "      padding: 0 0 0 0;\n",
              "      width: 32px;\n",
              "    }\n",
              "\n",
              "    .colab-df-convert:hover {\n",
              "      background-color: #E2EBFA;\n",
              "      box-shadow: 0px 1px 2px rgba(60, 64, 67, 0.3), 0px 1px 3px 1px rgba(60, 64, 67, 0.15);\n",
              "      fill: #174EA6;\n",
              "    }\n",
              "\n",
              "    .colab-df-buttons div {\n",
              "      margin-bottom: 4px;\n",
              "    }\n",
              "\n",
              "    [theme=dark] .colab-df-convert {\n",
              "      background-color: #3B4455;\n",
              "      fill: #D2E3FC;\n",
              "    }\n",
              "\n",
              "    [theme=dark] .colab-df-convert:hover {\n",
              "      background-color: #434B5C;\n",
              "      box-shadow: 0px 1px 3px 1px rgba(0, 0, 0, 0.15);\n",
              "      filter: drop-shadow(0px 1px 2px rgba(0, 0, 0, 0.3));\n",
              "      fill: #FFFFFF;\n",
              "    }\n",
              "  </style>\n",
              "\n",
              "    <script>\n",
              "      const buttonEl =\n",
              "        document.querySelector('#df-564183b0-a928-44b8-bfb3-74444373d6a9 button.colab-df-convert');\n",
              "      buttonEl.style.display =\n",
              "        google.colab.kernel.accessAllowed ? 'block' : 'none';\n",
              "\n",
              "      async function convertToInteractive(key) {\n",
              "        const element = document.querySelector('#df-564183b0-a928-44b8-bfb3-74444373d6a9');\n",
              "        const dataTable =\n",
              "          await google.colab.kernel.invokeFunction('convertToInteractive',\n",
              "                                                    [key], {});\n",
              "        if (!dataTable) return;\n",
              "\n",
              "        const docLinkHtml = 'Like what you see? Visit the ' +\n",
              "          '<a target=\"_blank\" href=https://colab.research.google.com/notebooks/data_table.ipynb>data table notebook</a>'\n",
              "          + ' to learn more about interactive tables.';\n",
              "        element.innerHTML = '';\n",
              "        dataTable['output_type'] = 'display_data';\n",
              "        await google.colab.output.renderOutput(dataTable, element);\n",
              "        const docLink = document.createElement('div');\n",
              "        docLink.innerHTML = docLinkHtml;\n",
              "        element.appendChild(docLink);\n",
              "      }\n",
              "    </script>\n",
              "  </div>\n",
              "\n",
              "\n",
              "<div id=\"df-420a4526-6420-42d8-aa57-13af211a7963\">\n",
              "  <button class=\"colab-df-quickchart\" onclick=\"quickchart('df-420a4526-6420-42d8-aa57-13af211a7963')\"\n",
              "            title=\"Suggest charts\"\n",
              "            style=\"display:none;\">\n",
              "\n",
              "<svg xmlns=\"http://www.w3.org/2000/svg\" height=\"24px\"viewBox=\"0 0 24 24\"\n",
              "     width=\"24px\">\n",
              "    <g>\n",
              "        <path d=\"M19 3H5c-1.1 0-2 .9-2 2v14c0 1.1.9 2 2 2h14c1.1 0 2-.9 2-2V5c0-1.1-.9-2-2-2zM9 17H7v-7h2v7zm4 0h-2V7h2v10zm4 0h-2v-4h2v4z\"/>\n",
              "    </g>\n",
              "</svg>\n",
              "  </button>\n",
              "\n",
              "<style>\n",
              "  .colab-df-quickchart {\n",
              "      --bg-color: #E8F0FE;\n",
              "      --fill-color: #1967D2;\n",
              "      --hover-bg-color: #E2EBFA;\n",
              "      --hover-fill-color: #174EA6;\n",
              "      --disabled-fill-color: #AAA;\n",
              "      --disabled-bg-color: #DDD;\n",
              "  }\n",
              "\n",
              "  [theme=dark] .colab-df-quickchart {\n",
              "      --bg-color: #3B4455;\n",
              "      --fill-color: #D2E3FC;\n",
              "      --hover-bg-color: #434B5C;\n",
              "      --hover-fill-color: #FFFFFF;\n",
              "      --disabled-bg-color: #3B4455;\n",
              "      --disabled-fill-color: #666;\n",
              "  }\n",
              "\n",
              "  .colab-df-quickchart {\n",
              "    background-color: var(--bg-color);\n",
              "    border: none;\n",
              "    border-radius: 50%;\n",
              "    cursor: pointer;\n",
              "    display: none;\n",
              "    fill: var(--fill-color);\n",
              "    height: 32px;\n",
              "    padding: 0;\n",
              "    width: 32px;\n",
              "  }\n",
              "\n",
              "  .colab-df-quickchart:hover {\n",
              "    background-color: var(--hover-bg-color);\n",
              "    box-shadow: 0 1px 2px rgba(60, 64, 67, 0.3), 0 1px 3px 1px rgba(60, 64, 67, 0.15);\n",
              "    fill: var(--button-hover-fill-color);\n",
              "  }\n",
              "\n",
              "  .colab-df-quickchart-complete:disabled,\n",
              "  .colab-df-quickchart-complete:disabled:hover {\n",
              "    background-color: var(--disabled-bg-color);\n",
              "    fill: var(--disabled-fill-color);\n",
              "    box-shadow: none;\n",
              "  }\n",
              "\n",
              "  .colab-df-spinner {\n",
              "    border: 2px solid var(--fill-color);\n",
              "    border-color: transparent;\n",
              "    border-bottom-color: var(--fill-color);\n",
              "    animation:\n",
              "      spin 1s steps(1) infinite;\n",
              "  }\n",
              "\n",
              "  @keyframes spin {\n",
              "    0% {\n",
              "      border-color: transparent;\n",
              "      border-bottom-color: var(--fill-color);\n",
              "      border-left-color: var(--fill-color);\n",
              "    }\n",
              "    20% {\n",
              "      border-color: transparent;\n",
              "      border-left-color: var(--fill-color);\n",
              "      border-top-color: var(--fill-color);\n",
              "    }\n",
              "    30% {\n",
              "      border-color: transparent;\n",
              "      border-left-color: var(--fill-color);\n",
              "      border-top-color: var(--fill-color);\n",
              "      border-right-color: var(--fill-color);\n",
              "    }\n",
              "    40% {\n",
              "      border-color: transparent;\n",
              "      border-right-color: var(--fill-color);\n",
              "      border-top-color: var(--fill-color);\n",
              "    }\n",
              "    60% {\n",
              "      border-color: transparent;\n",
              "      border-right-color: var(--fill-color);\n",
              "    }\n",
              "    80% {\n",
              "      border-color: transparent;\n",
              "      border-right-color: var(--fill-color);\n",
              "      border-bottom-color: var(--fill-color);\n",
              "    }\n",
              "    90% {\n",
              "      border-color: transparent;\n",
              "      border-bottom-color: var(--fill-color);\n",
              "    }\n",
              "  }\n",
              "</style>\n",
              "\n",
              "  <script>\n",
              "    async function quickchart(key) {\n",
              "      const quickchartButtonEl =\n",
              "        document.querySelector('#' + key + ' button');\n",
              "      quickchartButtonEl.disabled = true;  // To prevent multiple clicks.\n",
              "      quickchartButtonEl.classList.add('colab-df-spinner');\n",
              "      try {\n",
              "        const charts = await google.colab.kernel.invokeFunction(\n",
              "            'suggestCharts', [key], {});\n",
              "      } catch (error) {\n",
              "        console.error('Error during call to suggestCharts:', error);\n",
              "      }\n",
              "      quickchartButtonEl.classList.remove('colab-df-spinner');\n",
              "      quickchartButtonEl.classList.add('colab-df-quickchart-complete');\n",
              "    }\n",
              "    (() => {\n",
              "      let quickchartButtonEl =\n",
              "        document.querySelector('#df-420a4526-6420-42d8-aa57-13af211a7963 button');\n",
              "      quickchartButtonEl.style.display =\n",
              "        google.colab.kernel.accessAllowed ? 'block' : 'none';\n",
              "    })();\n",
              "  </script>\n",
              "</div>\n",
              "    </div>\n",
              "  </div>\n"
            ]
          },
          "metadata": {},
          "execution_count": 147
        }
      ]
    },
    {
      "cell_type": "code",
      "source": [
        "! pip install accelerate -Uqq\n",
        "!pip install transformers[torch] -qq"
      ],
      "metadata": {
        "id": "qJuGkDbQQ_pc"
      },
      "execution_count": 148,
      "outputs": []
    },
    {
      "cell_type": "code",
      "source": [
        "from transformers import TrainingArguments"
      ],
      "metadata": {
        "id": "cmVzRSLZPk8R"
      },
      "execution_count": 149,
      "outputs": []
    },
    {
      "cell_type": "code",
      "source": [
        "training_args = TrainingArguments(\n",
        "    output_dir = \"my_trainer\",\n",
        "    evaluation_strategy = \"epoch\",\n",
        "    save_strategy = \"epoch\",\n",
        "    num_train_epochs = 1\n",
        ")"
      ],
      "metadata": {
        "id": "f7FV8JIiPpVW"
      },
      "execution_count": 150,
      "outputs": []
    },
    {
      "cell_type": "code",
      "source": [
        "from transformers import AutoModelForSequenceClassification"
      ],
      "metadata": {
        "id": "9nOaxz0bQaog"
      },
      "execution_count": 151,
      "outputs": []
    },
    {
      "cell_type": "code",
      "source": [
        "model = AutoModelForSequenceClassification.from_pretrained(\n",
        "    pretrained_model_name_or_path = checkpoint,\n",
        "    num_labels = 2\n",
        ")\n",
        "\n",
        "model"
      ],
      "metadata": {
        "colab": {
          "base_uri": "https://localhost:8080/"
        },
        "id": "iz_OCSPJR9mH",
        "outputId": "4c85b239-07fd-43a1-d8b6-50b1ac2cce95"
      },
      "execution_count": 152,
      "outputs": [
        {
          "output_type": "stream",
          "name": "stderr",
          "text": [
            "Some weights of DistilBertForSequenceClassification were not initialized from the model checkpoint at distilbert-base-uncased and are newly initialized: ['pre_classifier.weight', 'classifier.bias', 'classifier.weight', 'pre_classifier.bias']\n",
            "You should probably TRAIN this model on a down-stream task to be able to use it for predictions and inference.\n"
          ]
        },
        {
          "output_type": "execute_result",
          "data": {
            "text/plain": [
              "DistilBertForSequenceClassification(\n",
              "  (distilbert): DistilBertModel(\n",
              "    (embeddings): Embeddings(\n",
              "      (word_embeddings): Embedding(30522, 768, padding_idx=0)\n",
              "      (position_embeddings): Embedding(512, 768)\n",
              "      (LayerNorm): LayerNorm((768,), eps=1e-12, elementwise_affine=True)\n",
              "      (dropout): Dropout(p=0.1, inplace=False)\n",
              "    )\n",
              "    (transformer): Transformer(\n",
              "      (layer): ModuleList(\n",
              "        (0-5): 6 x TransformerBlock(\n",
              "          (attention): MultiHeadSelfAttention(\n",
              "            (dropout): Dropout(p=0.1, inplace=False)\n",
              "            (q_lin): Linear(in_features=768, out_features=768, bias=True)\n",
              "            (k_lin): Linear(in_features=768, out_features=768, bias=True)\n",
              "            (v_lin): Linear(in_features=768, out_features=768, bias=True)\n",
              "            (out_lin): Linear(in_features=768, out_features=768, bias=True)\n",
              "          )\n",
              "          (sa_layer_norm): LayerNorm((768,), eps=1e-12, elementwise_affine=True)\n",
              "          (ffn): FFN(\n",
              "            (dropout): Dropout(p=0.1, inplace=False)\n",
              "            (lin1): Linear(in_features=768, out_features=3072, bias=True)\n",
              "            (lin2): Linear(in_features=3072, out_features=768, bias=True)\n",
              "            (activation): GELUActivation()\n",
              "          )\n",
              "          (output_layer_norm): LayerNorm((768,), eps=1e-12, elementwise_affine=True)\n",
              "        )\n",
              "      )\n",
              "    )\n",
              "  )\n",
              "  (pre_classifier): Linear(in_features=768, out_features=768, bias=True)\n",
              "  (classifier): Linear(in_features=768, out_features=2, bias=True)\n",
              "  (dropout): Dropout(p=0.2, inplace=False)\n",
              ")"
            ]
          },
          "metadata": {},
          "execution_count": 152
        }
      ]
    },
    {
      "cell_type": "code",
      "source": [
        "type(model)"
      ],
      "metadata": {
        "colab": {
          "base_uri": "https://localhost:8080/"
        },
        "id": "1_ks0wGvY9sW",
        "outputId": "1d561b6e-7404-4253-fcd1-baa255813e91"
      },
      "execution_count": 153,
      "outputs": [
        {
          "output_type": "execute_result",
          "data": {
            "text/plain": [
              "transformers.models.distilbert.modeling_distilbert.DistilBertForSequenceClassification"
            ]
          },
          "metadata": {},
          "execution_count": 153
        }
      ]
    },
    {
      "cell_type": "code",
      "source": [
        "! pip install torchinfo -qq"
      ],
      "metadata": {
        "id": "ifxnjR4YZFhK"
      },
      "execution_count": 154,
      "outputs": []
    },
    {
      "cell_type": "code",
      "source": [
        "from torchinfo import summary\n",
        "summary(\n",
        "    model = model,\n",
        "    input_size = (16, 512),\n",
        "    dtypes = [\"torch.IntTensor\"],\n",
        "    device = \"cpu\"\n",
        "  )"
      ],
      "metadata": {
        "colab": {
          "base_uri": "https://localhost:8080/"
        },
        "id": "YTnA2kmfZvyM",
        "outputId": "d827fce0-f8b5-4e8d-d8af-75e0b955b8c9"
      },
      "execution_count": 155,
      "outputs": [
        {
          "output_type": "execute_result",
          "data": {
            "text/plain": [
              "=========================================================================================================\n",
              "Layer (type:depth-idx)                                  Output Shape              Param #\n",
              "=========================================================================================================\n",
              "DistilBertForSequenceClassification                     [16, 2]                   --\n",
              "├─DistilBertModel: 1-1                                  [16, 512, 768]            --\n",
              "│    └─Embeddings: 2-1                                  [16, 512, 768]            --\n",
              "│    │    └─Embedding: 3-1                              [16, 512, 768]            23,440,896\n",
              "│    │    └─Embedding: 3-2                              [1, 512, 768]             393,216\n",
              "│    │    └─LayerNorm: 3-3                              [16, 512, 768]            1,536\n",
              "│    │    └─Dropout: 3-4                                [16, 512, 768]            --\n",
              "│    └─Transformer: 2-2                                 [16, 512, 768]            --\n",
              "│    │    └─ModuleList: 3-5                             --                        42,527,232\n",
              "├─Linear: 1-2                                           [16, 768]                 590,592\n",
              "├─Dropout: 1-3                                          [16, 768]                 --\n",
              "├─Linear: 1-4                                           [16, 2]                   1,538\n",
              "=========================================================================================================\n",
              "Total params: 66,955,010\n",
              "Trainable params: 66,955,010\n",
              "Non-trainable params: 0\n",
              "Total mult-adds (G): 1.07\n",
              "=========================================================================================================\n",
              "Input size (MB): 0.03\n",
              "Forward/backward pass size (MB): 3425.80\n",
              "Params size (MB): 267.82\n",
              "Estimated Total Size (MB): 3693.65\n",
              "========================================================================================================="
            ]
          },
          "metadata": {},
          "execution_count": 155
        }
      ]
    },
    {
      "cell_type": "code",
      "source": [
        "params_before = []\n",
        "\n",
        "for name, p in model.named_parameters():\n",
        "  params_before.append(p.detach().cpu().numpy())"
      ],
      "metadata": {
        "id": "B9-sTbASZ_Qv"
      },
      "execution_count": 156,
      "outputs": []
    },
    {
      "cell_type": "code",
      "source": [
        "from transformers import Trainer\n",
        "from datasets import load_metric"
      ],
      "metadata": {
        "id": "uaYZHiPhbfp3"
      },
      "execution_count": 157,
      "outputs": []
    },
    {
      "cell_type": "code",
      "source": [
        "metric = load_metric(\n",
        "    \"glue\",\n",
        "    \"sst2\"\n",
        ")"
      ],
      "metadata": {
        "id": "FLb9sR21dc-6"
      },
      "execution_count": 158,
      "outputs": []
    },
    {
      "cell_type": "code",
      "source": [
        "# random inputs\n",
        "metric.compute(\n",
        "    predictions = [0,1,0], # predicted label\n",
        "    references = [0,0,1] # target label\n",
        ")"
      ],
      "metadata": {
        "colab": {
          "base_uri": "https://localhost:8080/"
        },
        "id": "vF2mjr-1dwz5",
        "outputId": "5c672f01-1389-417a-efed-72ebedc86e86"
      },
      "execution_count": 159,
      "outputs": [
        {
          "output_type": "execute_result",
          "data": {
            "text/plain": [
              "{'accuracy': 0.3333333333333333}"
            ]
          },
          "metadata": {},
          "execution_count": 159
        }
      ]
    },
    {
      "cell_type": "code",
      "source": [
        "import torch"
      ],
      "metadata": {
        "id": "_eA1p-g1fj1S"
      },
      "execution_count": 160,
      "outputs": []
    },
    {
      "cell_type": "code",
      "source": [
        "# Creating custom compute metrics because the Trainer wants them in different format\n",
        "def compute_metrics(logits_and_labels:tuple):\n",
        "  logits, labels = logits_and_labels\n",
        "  predictions = np.argmax(logits, axis = -1)\n",
        "  return metric.compute(\n",
        "      predictions = predictions,\n",
        "      references = labels\n",
        "  )"
      ],
      "metadata": {
        "id": "gB0vt-yzeGBA"
      },
      "execution_count": 161,
      "outputs": []
    },
    {
      "cell_type": "code",
      "source": [
        "trainer = Trainer(\n",
        "    model,\n",
        "    training_args,\n",
        "    train_dataset = tokenized_datasets[\"train\"],\n",
        "    eval_dataset = tokenized_datasets[\"validation\"],\n",
        "    tokenizer = tokenizer,\n",
        "    compute_metrics = compute_metrics,\n",
        ")"
      ],
      "metadata": {
        "id": "EZUXEzoUf0lW"
      },
      "execution_count": 162,
      "outputs": []
    },
    {
      "cell_type": "code",
      "source": [
        "# lets train the model with the data\n",
        "trainer.train()"
      ],
      "metadata": {
        "colab": {
          "base_uri": "https://localhost:8080/",
          "height": 180
        },
        "id": "gqUyGCXwgB79",
        "outputId": "f464d9f2-f034-43ec-897f-76dbec718430"
      },
      "execution_count": 163,
      "outputs": [
        {
          "output_type": "stream",
          "name": "stderr",
          "text": [
            "You're using a DistilBertTokenizerFast tokenizer. Please note that with a fast tokenizer, using the `__call__` method is faster than using a method to encode the text followed by a call to the `pad` method to get a padded encoding.\n"
          ]
        },
        {
          "output_type": "display_data",
          "data": {
            "text/plain": [
              "<IPython.core.display.HTML object>"
            ],
            "text/html": [
              "\n",
              "    <div>\n",
              "      \n",
              "      <progress value='8419' max='8419' style='width:300px; height:20px; vertical-align: middle;'></progress>\n",
              "      [8419/8419 07:18, Epoch 1/1]\n",
              "    </div>\n",
              "    <table border=\"1\" class=\"dataframe\">\n",
              "  <thead>\n",
              " <tr style=\"text-align: left;\">\n",
              "      <th>Epoch</th>\n",
              "      <th>Training Loss</th>\n",
              "      <th>Validation Loss</th>\n",
              "      <th>Accuracy</th>\n",
              "    </tr>\n",
              "  </thead>\n",
              "  <tbody>\n",
              "    <tr>\n",
              "      <td>1</td>\n",
              "      <td>0.215700</td>\n",
              "      <td>0.333749</td>\n",
              "      <td>0.909404</td>\n",
              "    </tr>\n",
              "  </tbody>\n",
              "</table><p>"
            ]
          },
          "metadata": {}
        },
        {
          "output_type": "execute_result",
          "data": {
            "text/plain": [
              "TrainOutput(global_step=8419, training_loss=0.2644536002173052, metrics={'train_runtime': 438.4499, 'train_samples_per_second': 153.607, 'train_steps_per_second': 19.202, 'total_flos': 518596929468840.0, 'train_loss': 0.2644536002173052, 'epoch': 1.0})"
            ]
          },
          "metadata": {},
          "execution_count": 163
        }
      ]
    },
    {
      "cell_type": "code",
      "source": [
        "trainer.save_model(\"my_saved_model\")"
      ],
      "metadata": {
        "id": "HIKiE5_jwm7l"
      },
      "execution_count": 164,
      "outputs": []
    },
    {
      "cell_type": "code",
      "source": [
        "!ls"
      ],
      "metadata": {
        "colab": {
          "base_uri": "https://localhost:8080/"
        },
        "id": "m1mGOK3zu8aj",
        "outputId": "d62b6eef-fe3d-487e-fb0c-d4efcb3c014d"
      },
      "execution_count": 165,
      "outputs": [
        {
          "output_type": "stream",
          "name": "stdout",
          "text": [
            "airline-sentiment-tweets  data.csv  my_saved_model  my_trainer\tsample_data\n"
          ]
        }
      ]
    },
    {
      "cell_type": "code",
      "source": [
        "!ls my_saved_model"
      ],
      "metadata": {
        "colab": {
          "base_uri": "https://localhost:8080/"
        },
        "id": "d7phlZuDwa20",
        "outputId": "14ea1694-a971-4c0e-d9f3-be98cde37aa5"
      },
      "execution_count": 166,
      "outputs": [
        {
          "output_type": "stream",
          "name": "stdout",
          "text": [
            "config.json\t   special_tokens_map.json  tokenizer.json     vocab.txt\n",
            "model.safetensors  tokenizer_config.json    training_args.bin\n"
          ]
        }
      ]
    },
    {
      "cell_type": "markdown",
      "source": [
        "`my_saved_model` is our trained model saved in that folder that contains all the things required for the `pipeline` of HuggingFace to work."
      ],
      "metadata": {
        "id": "6FyY-m9bw1-g"
      }
    },
    {
      "cell_type": "code",
      "source": [
        "from transformers import pipeline"
      ],
      "metadata": {
        "id": "QCG2pJ6MwtnR"
      },
      "execution_count": 167,
      "outputs": []
    },
    {
      "cell_type": "code",
      "source": [
        "my_trained_model = pipeline(\n",
        "    task = \"text-classification\",\n",
        "    model = \"my_saved_model\"\n",
        ")"
      ],
      "metadata": {
        "id": "hQ5N_2xXxG02"
      },
      "execution_count": 168,
      "outputs": []
    },
    {
      "cell_type": "code",
      "source": [
        "result = my_trained_model(\"This movie sucks, don't know why did I agree to watch it though.\")\n",
        "result"
      ],
      "metadata": {
        "colab": {
          "base_uri": "https://localhost:8080/"
        },
        "id": "2-_UY91j0o_W",
        "outputId": "373077b0-9c7f-4ea2-aec1-f3512bf854c2"
      },
      "execution_count": 169,
      "outputs": [
        {
          "output_type": "execute_result",
          "data": {
            "text/plain": [
              "[{'label': 'LABEL_0', 'score': 0.9934436082839966}]"
            ]
          },
          "metadata": {},
          "execution_count": 169
        }
      ]
    },
    {
      "cell_type": "code",
      "source": [
        "!cat my_saved_model/config.json"
      ],
      "metadata": {
        "colab": {
          "base_uri": "https://localhost:8080/"
        },
        "id": "WKNwy_le0zEZ",
        "outputId": "96959c79-aac5-4636-c7ef-b72b89fe0535"
      },
      "execution_count": 170,
      "outputs": [
        {
          "output_type": "stream",
          "name": "stdout",
          "text": [
            "{\n",
            "  \"_name_or_path\": \"distilbert-base-uncased\",\n",
            "  \"activation\": \"gelu\",\n",
            "  \"architectures\": [\n",
            "    \"DistilBertForSequenceClassification\"\n",
            "  ],\n",
            "  \"attention_dropout\": 0.1,\n",
            "  \"dim\": 768,\n",
            "  \"dropout\": 0.1,\n",
            "  \"hidden_dim\": 3072,\n",
            "  \"initializer_range\": 0.02,\n",
            "  \"max_position_embeddings\": 512,\n",
            "  \"model_type\": \"distilbert\",\n",
            "  \"n_heads\": 12,\n",
            "  \"n_layers\": 6,\n",
            "  \"pad_token_id\": 0,\n",
            "  \"problem_type\": \"single_label_classification\",\n",
            "  \"qa_dropout\": 0.1,\n",
            "  \"seq_classif_dropout\": 0.2,\n",
            "  \"sinusoidal_pos_embds\": false,\n",
            "  \"tie_weights_\": true,\n",
            "  \"torch_dtype\": \"float32\",\n",
            "  \"transformers_version\": \"4.35.2\",\n",
            "  \"vocab_size\": 30522\n",
            "}\n"
          ]
        }
      ]
    },
    {
      "cell_type": "code",
      "source": [
        "import json\n",
        "config_path = \"my_saved_model/config.json\"\n",
        "\n",
        "with open(file = config_path) as f:\n",
        "  j = json.load(f)\n",
        "\n",
        "j[\"id2label\"] = {0:\"negative\", 1:\"positive\"}\n",
        "\n",
        "with open(file = config_path, mode=\"w\") as f:\n",
        "  json.dump(j, f, indent = 2)"
      ],
      "metadata": {
        "id": "ohI1tNKc6pWv"
      },
      "execution_count": 171,
      "outputs": []
    },
    {
      "cell_type": "code",
      "source": [
        "params_after = []\n",
        "\n",
        "for name, p in model.named_parameters():\n",
        "  params_after.append(p.detach().cpu().numpy())"
      ],
      "metadata": {
        "id": "Hp_rITMp7x13"
      },
      "execution_count": 172,
      "outputs": []
    },
    {
      "cell_type": "code",
      "source": [
        "for p1, p2 in zip(params_before,params_after):\n",
        "  print(np.sum(np.abs(p1-p2)))"
      ],
      "metadata": {
        "colab": {
          "base_uri": "https://localhost:8080/"
        },
        "id": "6FXTrWaq_dJw",
        "outputId": "3c74255f-908d-48fa-bfb3-739aea0afde5"
      },
      "execution_count": 173,
      "outputs": [
        {
          "output_type": "stream",
          "name": "stdout",
          "text": [
            "13343.587\n",
            "89.95245\n",
            "1.8103788\n",
            "1.1018606\n",
            "1299.748\n",
            "1.622119\n",
            "1287.1423\n",
            "0.0033159768\n",
            "1188.93\n",
            "1.0522709\n",
            "1121.815\n",
            "0.8296045\n",
            "1.747123\n",
            "0.83485544\n",
            "4934.3213\n",
            "5.7018785\n",
            "4514.0356\n",
            "0.7062712\n",
            "1.592768\n",
            "0.6393697\n",
            "1278.6615\n",
            "1.3608233\n",
            "1267.9501\n",
            "0.002905826\n",
            "1098.2262\n",
            "0.8267909\n",
            "1047.7579\n",
            "0.7257391\n",
            "1.6331531\n",
            "0.7305273\n",
            "4884.7554\n",
            "5.308346\n",
            "4449.6885\n",
            "0.7054193\n",
            "1.5153456\n",
            "0.7100934\n",
            "1276.245\n",
            "1.5411466\n",
            "1289.016\n",
            "0.0025998633\n",
            "1107.9624\n",
            "0.7786826\n",
            "1093.9341\n",
            "0.71520805\n",
            "1.5335522\n",
            "0.7910348\n",
            "4938.441\n",
            "5.6657248\n",
            "4356.6494\n",
            "0.6755383\n",
            "1.4680973\n",
            "0.69340146\n",
            "1287.8444\n",
            "1.4287503\n",
            "1303.4701\n",
            "0.0028647142\n",
            "1163.6178\n",
            "0.7275519\n",
            "1119.0985\n",
            "0.7275117\n",
            "1.4476287\n",
            "0.71741545\n",
            "4780.397\n",
            "5.3437295\n",
            "4108.367\n",
            "0.76159513\n",
            "1.3230817\n",
            "0.78689617\n",
            "1193.1625\n",
            "1.5182226\n",
            "1180.3444\n",
            "0.0021471973\n",
            "961.22736\n",
            "0.7428751\n",
            "996.9521\n",
            "0.87817174\n",
            "1.362813\n",
            "0.9176675\n",
            "4289.3755\n",
            "4.830091\n",
            "3276.3987\n",
            "0.6887346\n",
            "1.305912\n",
            "0.60231626\n",
            "1120.3427\n",
            "1.3709259\n",
            "1136.3058\n",
            "0.0011294237\n",
            "907.46313\n",
            "0.6721538\n",
            "900.2316\n",
            "0.80879134\n",
            "1.228035\n",
            "1.0860406\n",
            "3444.561\n",
            "4.3018227\n",
            "3008.7441\n",
            "0.87695414\n",
            "1.2556564\n",
            "0.6923589\n",
            "861.5476\n",
            "1.0049002\n",
            "2.1861107\n",
            "0.0019955803\n"
          ]
        }
      ]
    },
    {
      "cell_type": "markdown",
      "source": [
        "The difference is non-zero for most of the cases, which indicates that after finetuning the model's parameters did change, hence the difference and which we wanted."
      ],
      "metadata": {
        "id": "tm3x2TsO_vli"
      }
    },
    {
      "cell_type": "markdown",
      "source": [
        "## Summary\n"
      ],
      "metadata": {
        "id": "TDRdaCxlGbHX"
      }
    },
    {
      "cell_type": "markdown",
      "source": [
        "1. **Load the important libraries**\n",
        "```python\n",
        "from datasets import load_dataset, load_metric\n",
        "from transformers import AutoTokenizer, AutoModelForSequenceClassification\n",
        "from transformers import TrainingArguments, Trainer\n",
        "```\n",
        "\n",
        "2. **Load the dataset**\n",
        "```python\n",
        "dataset = load_dataset(\n",
        "    path = \"glue\",\n",
        "    name = \"sst2\"\n",
        ")\n",
        "```"
      ],
      "metadata": {
        "id": "m_toqomXGmin"
      }
    }
  ]
}